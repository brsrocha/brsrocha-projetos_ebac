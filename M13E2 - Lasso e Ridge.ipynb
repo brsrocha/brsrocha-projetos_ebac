{
 "cells": [
  {
   "cell_type": "markdown",
   "metadata": {},
   "source": [
    "# EBAC - Regressão II - regressão múltipla\n",
    "\n",
    "## Tarefa I"
   ]
  },
  {
   "cell_type": "markdown",
   "metadata": {},
   "source": [
    "#### Previsão de renda II\n",
    "\n",
    "Vamos continuar trabalhando com a base 'previsao_de_renda.csv', que é a base do seu próximo projeto. Vamos usar os recursos que vimos até aqui nesta base.\n",
    "\n",
    "|variavel|descrição|\n",
    "|-|-|\n",
    "|data_ref                | Data de referência de coleta das variáveis |\n",
    "|index                   | Código de identificação do cliente|\n",
    "|sexo                    | Sexo do cliente|\n",
    "|posse_de_veiculo        | Indica se o cliente possui veículo|\n",
    "|posse_de_imovel         | Indica se o cliente possui imóvel|\n",
    "|qtd_filhos              | Quantidade de filhos do cliente|\n",
    "|tipo_renda              | Tipo de renda do cliente|\n",
    "|educacao                | Grau de instrução do cliente|\n",
    "|estado_civil            | Estado civil do cliente|\n",
    "|tipo_residencia         | Tipo de residência do cliente (própria, alugada etc)|\n",
    "|idade                   | Idade do cliente|\n",
    "|tempo_emprego           | Tempo no emprego atual|\n",
    "|qt_pessoas_residencia   | Quantidade de pessoas que moram na residência|\n",
    "|renda                   | Renda em reais|"
   ]
  },
  {
   "cell_type": "code",
   "execution_count": 17,
   "metadata": {},
   "outputs": [],
   "source": [
    "# Importar as libs\n",
    "import pandas as pd\n",
    "import numpy as np\n",
    "import statsmodels.api as sm\n",
    "import statsmodels.formula.api as smf\n",
    "from patsy import dmatrices\n",
    "from statsmodels.stats.outliers_influence import variance_inflation_factor"
   ]
  },
  {
   "cell_type": "code",
   "execution_count": 13,
   "metadata": {},
   "outputs": [],
   "source": [
    "df = pd.read_csv('previsao_de_renda.csv')"
   ]
  },
  {
   "cell_type": "code",
   "execution_count": 14,
   "metadata": {},
   "outputs": [
    {
     "name": "stdout",
     "output_type": "stream",
     "text": [
      "<class 'pandas.core.frame.DataFrame'>\n",
      "RangeIndex: 15000 entries, 0 to 14999\n",
      "Data columns (total 15 columns):\n",
      " #   Column                 Non-Null Count  Dtype  \n",
      "---  ------                 --------------  -----  \n",
      " 0   Unnamed: 0             15000 non-null  int64  \n",
      " 1   data_ref               15000 non-null  object \n",
      " 2   id_cliente             15000 non-null  int64  \n",
      " 3   sexo                   15000 non-null  object \n",
      " 4   posse_de_veiculo       15000 non-null  bool   \n",
      " 5   posse_de_imovel        15000 non-null  bool   \n",
      " 6   qtd_filhos             15000 non-null  int64  \n",
      " 7   tipo_renda             15000 non-null  object \n",
      " 8   educacao               15000 non-null  object \n",
      " 9   estado_civil           15000 non-null  object \n",
      " 10  tipo_residencia        15000 non-null  object \n",
      " 11  idade                  15000 non-null  int64  \n",
      " 12  tempo_emprego          12427 non-null  float64\n",
      " 13  qt_pessoas_residencia  15000 non-null  float64\n",
      " 14  renda                  15000 non-null  float64\n",
      "dtypes: bool(2), float64(3), int64(4), object(6)\n",
      "memory usage: 1.5+ MB\n"
     ]
    }
   ],
   "source": [
    "df.info()"
   ]
  },
  {
   "cell_type": "markdown",
   "metadata": {},
   "source": [
    "1. Separe a base em treinamento e teste (25% para teste, 75% para treinamento).\n",
    "2. Rode uma regularização *ridge* com alpha = [0, 0.001, 0.005, 0.01, 0.05, 0.1] e avalie o $R^2$ na base de testes. Qual o melhor modelo?\n",
    "3. Faça o mesmo que no passo 2, com uma regressão *LASSO*. Qual método chega a um melhor resultado?\n",
    "4. Rode um modelo *stepwise*. Avalie o $R^2$ na vase de testes. Qual o melhor resultado?\n",
    "5. Compare os parâmetros e avalie eventuais diferenças. Qual modelo você acha o melhor de todos?\n",
    "6. Partindo dos modelos que você ajustou, tente melhorar o $R^2$ na base de testes. Use a criatividade, veja se consegue inserir alguma transformação ou combinação de variáveis.\n",
    "7. Ajuste uma árvore de regressão e veja se consegue um $R^2$ melhor com ela."
   ]
  },
  {
   "cell_type": "code",
   "execution_count": 16,
   "metadata": {},
   "outputs": [
    {
     "name": "stdout",
     "output_type": "stream",
     "text": [
      "                            OLS Regression Results                            \n",
      "==============================================================================\n",
      "Dep. Variable:              log_renda   R-squared:                       0.357\n",
      "Model:                            OLS   Adj. R-squared:                  0.356\n",
      "Method:                 Least Squares   F-statistic:                     299.5\n",
      "Date:                Wed, 25 Jun 2025   Prob (F-statistic):               0.00\n",
      "Time:                        23:35:00   Log-Likelihood:                -13571.\n",
      "No. Observations:               12427   AIC:                         2.719e+04\n",
      "Df Residuals:                   12403   BIC:                         2.737e+04\n",
      "Df Model:                          23                                         \n",
      "Covariance Type:            nonrobust                                         \n",
      "====================================================================================================\n",
      "                                       coef    std err          t      P>|t|      [0.025      0.975]\n",
      "----------------------------------------------------------------------------------------------------\n",
      "Intercept                            7.1694      0.095     75.854      0.000       6.984       7.355\n",
      "sexo[T.M]                            0.7871      0.015     53.688      0.000       0.758       0.816\n",
      "posse_de_veiculo[T.True]             0.0440      0.014      3.109      0.002       0.016       0.072\n",
      "posse_de_imovel[T.True]              0.0832      0.014      5.950      0.000       0.056       0.111\n",
      "tipo_renda[T.Bolsista]               0.2207      0.241      0.915      0.360      -0.252       0.694\n",
      "tipo_renda[T.Empresário]             0.1546      0.015     10.349      0.000       0.125       0.184\n",
      "tipo_renda[T.Pensionista]           -0.3097      0.241     -1.283      0.199      -0.783       0.163\n",
      "tipo_renda[T.Servidor público]       0.0578      0.022      2.600      0.009       0.014       0.101\n",
      "educacao[T.Pós graduação]            0.1068      0.159      0.672      0.502      -0.205       0.419\n",
      "educacao[T.Secundário]              -0.0141      0.072     -0.196      0.845      -0.155       0.127\n",
      "educacao[T.Superior completo]        0.0935      0.072      1.293      0.196      -0.048       0.235\n",
      "educacao[T.Superior incompleto]     -0.0432      0.078     -0.555      0.579      -0.196       0.109\n",
      "estado_civil[T.Separado]             0.0341      0.028      1.218      0.223      -0.021       0.089\n",
      "estado_civil[T.Solteiro]            -0.0233      0.020     -1.138      0.255      -0.063       0.017\n",
      "estado_civil[T.União]               -0.0345      0.025     -1.371      0.170      -0.084       0.015\n",
      "estado_civil[T.Viúvo]                0.0761      0.042      1.824      0.068      -0.006       0.158\n",
      "tipo_residencia[T.Casa]             -0.0441      0.054     -0.813      0.416      -0.150       0.062\n",
      "tipo_residencia[T.Com os pais]      -0.0254      0.060     -0.421      0.674      -0.144       0.093\n",
      "tipo_residencia[T.Comunitário]      -0.1194      0.105     -1.133      0.257      -0.326       0.087\n",
      "tipo_residencia[T.Estúdio]           0.0670      0.099      0.675      0.500      -0.128       0.262\n",
      "tipo_residencia[T.Governamental]    -0.0552      0.066     -0.837      0.403      -0.185       0.074\n",
      "idade                                0.0053      0.001      6.641      0.000       0.004       0.007\n",
      "tempo_emprego                        0.0617      0.001     59.370      0.000       0.060       0.064\n",
      "qtd_filhos                           0.0264      0.009      3.020      0.003       0.009       0.043\n",
      "==============================================================================\n",
      "Omnibus:                        0.819   Durbin-Watson:                   2.024\n",
      "Prob(Omnibus):                  0.664   Jarque-Bera (JB):                0.795\n",
      "Skew:                           0.018   Prob(JB):                        0.672\n",
      "Kurtosis:                       3.017   Cond. No.                     1.59e+03\n",
      "==============================================================================\n",
      "\n",
      "Notes:\n",
      "[1] Standard Errors assume that the covariance matrix of the errors is correctly specified.\n",
      "[2] The condition number is large, 1.59e+03. This might indicate that there are\n",
      "strong multicollinearity or other numerical problems.\n"
     ]
    }
   ],
   "source": [
    "# Exercício 1: Ajustar um modelo com log(renda) usando variáveis categóricas com referência\n",
    "df['log_renda'] = np.log(df['renda'])\n",
    "\n",
    "# Ajustar o modelo inicial com todas as variáveis consideradas\n",
    "modelo1 = smf.ols('log_renda ~ sexo + idade + tempo_emprego + posse_de_veiculo + posse_de_imovel + tipo_renda + educacao + estado_civil + tipo_residencia + qtd_filhos + idade + tempo_emprego', data=df).fit()\n",
    "\n",
    "# Mostrar o resumo\n",
    "print(modelo1.summary())"
   ]
  },
  {
   "cell_type": "code",
   "execution_count": 18,
   "metadata": {},
   "outputs": [
    {
     "name": "stdout",
     "output_type": "stream",
     "text": [
      "                            variavel         VIF\n",
      "0                          Intercept  213.026436\n",
      "1                          sexo[T.M]    1.186788\n",
      "2           posse_de_veiculo[T.True]    1.165088\n",
      "3            posse_de_imovel[T.True]    1.057263\n",
      "4             tipo_renda[T.Bolsista]    1.004514\n",
      "5           tipo_renda[T.Empresário]    1.078164\n",
      "6          tipo_renda[T.Pensionista]    1.005027\n",
      "7     tipo_renda[T.Servidor público]    1.079715\n",
      "8          educacao[T.Pós graduação]    1.258783\n",
      "9             educacao[T.Secundário]   30.371803\n",
      "10     educacao[T.Superior completo]   29.297502\n",
      "11   educacao[T.Superior incompleto]    6.190214\n",
      "12          estado_civil[T.Separado]    1.044007\n",
      "13          estado_civil[T.Solteiro]    1.088714\n",
      "14             estado_civil[T.União]    1.040812\n",
      "15             estado_civil[T.Viúvo]    1.053457\n",
      "16           tipo_residencia[T.Casa]    6.800892\n",
      "17    tipo_residencia[T.Com os pais]    4.458718\n",
      "18    tipo_residencia[T.Comunitário]    1.357337\n",
      "19        tipo_residencia[T.Estúdio]    1.411959\n",
      "20  tipo_residencia[T.Governamental]    2.922164\n",
      "21                             idade    1.350115\n",
      "22                     tempo_emprego    1.159053\n",
      "23                        qtd_filhos    1.131439\n"
     ]
    }
   ],
   "source": [
    "# Exercício 2: Verificar multicolinearidade usando VIF\n",
    "\n",
    "# Criar as matrizes y e X para cálculo do VIF\n",
    "formula = 'log_renda ~ sexo + idade + tempo_emprego + posse_de_veiculo + posse_de_imovel + tipo_renda + educacao + estado_civil + tipo_residencia + qtd_filhos + idade + tempo_emprego'\n",
    "y, X = dmatrices(formula, data=df, return_type='dataframe')\n",
    "\n",
    "# Calcular VIF para cada variável\n",
    "vif = pd.DataFrame()\n",
    "vif['variavel'] = X.columns\n",
    "vif['VIF'] = [variance_inflation_factor(X.values, i) for i in range(X.shape[1])]\n",
    "\n",
    "# Mostrar os resultados\n",
    "print(vif)"
   ]
  },
  {
   "cell_type": "markdown",
   "metadata": {},
   "source": []
  },
  {
   "cell_type": "code",
   "execution_count": 19,
   "metadata": {},
   "outputs": [
    {
     "name": "stdout",
     "output_type": "stream",
     "text": [
      "   idade  idade2 faixa_idade\n",
      "0     26     676      adulto\n",
      "1     28     784      adulto\n",
      "2     35    1225      adulto\n",
      "3     30     900      adulto\n",
      "4     33    1089      adulto\n"
     ]
    }
   ],
   "source": [
    "# Exercício 3: Criar variáveis transformadas\n",
    "# Criar idade ao quadrado\n",
    "df['idade2'] = df['idade'] ** 2\n",
    "\n",
    "# Criar uma variável categórica para idade (faixas)\n",
    "df['faixa_idade'] = pd.cut(df['idade'], bins=[0, 25, 40, 60, 100], labels=['jovem', 'adulto', 'meia_idade', 'idoso'])\n",
    "\n",
    "# Visualizar as transformações\n",
    "print(df[['idade', 'idade2', 'faixa_idade']].head())\n"
   ]
  },
  {
   "cell_type": "code",
   "execution_count": 21,
   "metadata": {},
   "outputs": [
    {
     "name": "stdout",
     "output_type": "stream",
     "text": [
      "Modelo com idade²:\n",
      "                            OLS Regression Results                            \n",
      "==============================================================================\n",
      "Dep. Variable:              log_renda   R-squared:                       0.357\n",
      "Model:                            OLS   Adj. R-squared:                  0.356\n",
      "Method:                 Least Squares   F-statistic:                     287.0\n",
      "Date:                Wed, 25 Jun 2025   Prob (F-statistic):               0.00\n",
      "Time:                        23:36:35   Log-Likelihood:                -13571.\n",
      "No. Observations:               12427   AIC:                         2.719e+04\n",
      "Df Residuals:                   12402   BIC:                         2.738e+04\n",
      "Df Model:                          24                                         \n",
      "Covariance Type:            nonrobust                                         \n",
      "====================================================================================================\n",
      "                                       coef    std err          t      P>|t|      [0.025      0.975]\n",
      "----------------------------------------------------------------------------------------------------\n",
      "Intercept                            7.1539      0.150     47.693      0.000       6.860       7.448\n",
      "sexo[T.M]                            0.7872      0.015     53.508      0.000       0.758       0.816\n",
      "posse_de_veiculo[T.True]             0.0439      0.014      3.097      0.002       0.016       0.072\n",
      "posse_de_imovel[T.True]              0.0832      0.014      5.950      0.000       0.056       0.111\n",
      "tipo_renda[T.Bolsista]               0.2206      0.241      0.914      0.361      -0.252       0.694\n",
      "tipo_renda[T.Empresário]             0.1546      0.015     10.348      0.000       0.125       0.184\n",
      "tipo_renda[T.Pensionista]           -0.3100      0.241     -1.284      0.199      -0.783       0.163\n",
      "tipo_renda[T.Servidor público]       0.0579      0.022      2.603      0.009       0.014       0.102\n",
      "educacao[T.Pós graduação]            0.1075      0.159      0.676      0.499      -0.204       0.419\n",
      "educacao[T.Secundário]              -0.0141      0.072     -0.196      0.845      -0.155       0.127\n",
      "educacao[T.Superior completo]        0.0936      0.072      1.295      0.195      -0.048       0.235\n",
      "educacao[T.Superior incompleto]     -0.0429      0.078     -0.551      0.582      -0.195       0.110\n",
      "estado_civil[T.Separado]             0.0339      0.028      1.212      0.226      -0.021       0.089\n",
      "estado_civil[T.Solteiro]            -0.0231      0.021     -1.122      0.262      -0.063       0.017\n",
      "estado_civil[T.União]               -0.0346      0.025     -1.374      0.169      -0.084       0.015\n",
      "estado_civil[T.Viúvo]                0.0764      0.042      1.828      0.068      -0.006       0.158\n",
      "tipo_residencia[T.Casa]             -0.0441      0.054     -0.815      0.415      -0.150       0.062\n",
      "tipo_residencia[T.Com os pais]      -0.0253      0.060     -0.418      0.676      -0.144       0.093\n",
      "tipo_residencia[T.Comunitário]      -0.1195      0.105     -1.134      0.257      -0.326       0.087\n",
      "tipo_residencia[T.Estúdio]           0.0667      0.099      0.672      0.502      -0.128       0.262\n",
      "tipo_residencia[T.Governamental]    -0.0554      0.066     -0.839      0.402      -0.185       0.074\n",
      "idade                                0.0061      0.006      1.027      0.304      -0.006       0.018\n",
      "idade2                           -9.346e-06   7.03e-05     -0.133      0.894      -0.000       0.000\n",
      "tempo_emprego                        0.0617      0.001     59.343      0.000       0.060       0.064\n",
      "qtd_filhos                           0.0262      0.009      2.966      0.003       0.009       0.043\n",
      "==============================================================================\n",
      "Omnibus:                        0.821   Durbin-Watson:                   2.024\n",
      "Prob(Omnibus):                  0.663   Jarque-Bera (JB):                0.796\n",
      "Skew:                           0.018   Prob(JB):                        0.672\n",
      "Kurtosis:                       3.017   Cond. No.                     7.14e+04\n",
      "==============================================================================\n",
      "\n",
      "Notes:\n",
      "[1] Standard Errors assume that the covariance matrix of the errors is correctly specified.\n",
      "[2] The condition number is large, 7.14e+04. This might indicate that there are\n",
      "strong multicollinearity or other numerical problems.\n",
      "\n",
      "Modelo com faixa etária:\n",
      "                            OLS Regression Results                            \n",
      "==============================================================================\n",
      "Dep. Variable:              log_renda   R-squared:                       0.357\n",
      "Model:                            OLS   Adj. R-squared:                  0.355\n",
      "Method:                 Least Squares   F-statistic:                     275.1\n",
      "Date:                Wed, 25 Jun 2025   Prob (F-statistic):               0.00\n",
      "Time:                        23:36:35   Log-Likelihood:                -13575.\n",
      "No. Observations:               12427   AIC:                         2.720e+04\n",
      "Df Residuals:                   12401   BIC:                         2.739e+04\n",
      "Df Model:                          25                                         \n",
      "Covariance Type:            nonrobust                                         \n",
      "====================================================================================================\n",
      "                                       coef    std err          t      P>|t|      [0.025      0.975]\n",
      "----------------------------------------------------------------------------------------------------\n",
      "Intercept                            7.1144      0.101     70.622      0.000       6.917       7.312\n",
      "faixa_idade[T.adulto]                0.2334      0.046      5.106      0.000       0.144       0.323\n",
      "faixa_idade[T.meia_idade]            0.2666      0.046      5.744      0.000       0.176       0.358\n",
      "faixa_idade[T.idoso]                 0.3542      0.071      4.973      0.000       0.215       0.494\n",
      "sexo[T.M]                            0.7884      0.015     53.653      0.000       0.760       0.817\n",
      "posse_de_veiculo[T.True]             0.0406      0.014      2.864      0.004       0.013       0.068\n",
      "posse_de_imovel[T.True]              0.0855      0.014      6.112      0.000       0.058       0.113\n",
      "tipo_renda[T.Bolsista]               0.2469      0.241      1.023      0.306      -0.226       0.720\n",
      "tipo_renda[T.Empresário]             0.1532      0.015     10.256      0.000       0.124       0.183\n",
      "tipo_renda[T.Pensionista]           -0.3316      0.241     -1.374      0.170      -0.805       0.142\n",
      "tipo_renda[T.Servidor público]       0.0600      0.022      2.699      0.007       0.016       0.104\n",
      "educacao[T.Pós graduação]            0.1145      0.159      0.718      0.473      -0.198       0.427\n",
      "educacao[T.Secundário]               0.0030      0.072      0.042      0.967      -0.138       0.144\n",
      "educacao[T.Superior completo]        0.1059      0.072      1.464      0.143      -0.036       0.248\n",
      "educacao[T.Superior incompleto]     -0.0329      0.078     -0.423      0.673      -0.186       0.120\n",
      "estado_civil[T.Separado]             0.0405      0.028      1.446      0.148      -0.014       0.095\n",
      "estado_civil[T.Solteiro]            -0.0211      0.021     -1.024      0.306      -0.061       0.019\n",
      "estado_civil[T.União]               -0.0382      0.025     -1.515      0.130      -0.088       0.011\n",
      "estado_civil[T.Viúvo]                0.0957      0.042      2.297      0.022       0.014       0.177\n",
      "tipo_residencia[T.Casa]             -0.0355      0.054     -0.655      0.513      -0.142       0.071\n",
      "tipo_residencia[T.Com os pais]      -0.0261      0.060     -0.431      0.666      -0.144       0.092\n",
      "tipo_residencia[T.Comunitário]      -0.1067      0.105     -1.012      0.312      -0.313       0.100\n",
      "tipo_residencia[T.Estúdio]           0.0806      0.099      0.812      0.417      -0.114       0.275\n",
      "tipo_residencia[T.Governamental]    -0.0387      0.066     -0.586      0.558      -0.168       0.091\n",
      "tempo_emprego                        0.0626      0.001     61.188      0.000       0.061       0.065\n",
      "qtd_filhos                           0.0149      0.009      1.689      0.091      -0.002       0.032\n",
      "==============================================================================\n",
      "Omnibus:                        0.529   Durbin-Watson:                   2.023\n",
      "Prob(Omnibus):                  0.767   Jarque-Bera (JB):                0.510\n",
      "Skew:                           0.014   Prob(JB):                        0.775\n",
      "Kurtosis:                       3.012   Cond. No.                         385.\n",
      "==============================================================================\n",
      "\n",
      "Notes:\n",
      "[1] Standard Errors assume that the covariance matrix of the errors is correctly specified.\n"
     ]
    }
   ],
   "source": [
    "# Exercício 4: Ajustar dois novos modelos com idade ao quadrado e com faixa etária\n",
    "# Modelo com idade e idade²\n",
    "modelo_quad = smf.ols('log_renda ~ idade + idade2 + sexo + tempo_emprego + posse_de_veiculo + posse_de_imovel + tipo_renda + educacao + estado_civil + tipo_residencia + qtd_filhos', data=df).fit()\n",
    "print('Modelo com idade²:')\n",
    "print(modelo_quad.summary())\n",
    "\n",
    "# Modelo com faixa etária (variável categórica)\n",
    "modelo_faixa = smf.ols('log_renda ~ faixa_idade + sexo + tempo_emprego + posse_de_veiculo + posse_de_imovel + tipo_renda + educacao + estado_civil + tipo_residencia + qtd_filhos', data=df).fit()\n",
    "print('\\nModelo com faixa etária:')\n",
    "print(modelo_faixa.summary())\n"
   ]
  },
  {
   "cell_type": "code",
   "execution_count": 22,
   "metadata": {},
   "outputs": [
    {
     "name": "stdout",
     "output_type": "stream",
     "text": [
      "Modelo inicial:\n",
      "R²-ajustado: 0.355896094676444\n",
      "AIC: 27190.68676690226\n",
      "\n",
      "Modelo com idade²:\n",
      "R²-ajustado: 0.3558450760678109\n",
      "AIC: 27192.669078556686\n",
      "\n",
      "Modelo com faixa etária:\n",
      "R²-ajustado: 0.35545649028953985\n",
      "AIC: 27201.161336751204\n"
     ]
    }
   ],
   "source": [
    "# Exercício 5: Comparar os modelos com base no AIC e R²-ajustado\n",
    "print('Modelo inicial:')\n",
    "print('R²-ajustado:', modelo1.rsquared_adj)\n",
    "print('AIC:', modelo1.aic)\n",
    "\n",
    "print('\\nModelo com idade²:')\n",
    "print('R²-ajustado:', modelo_quad.rsquared_adj)\n",
    "print('AIC:', modelo_quad.aic)\n",
    "\n",
    "print('\\nModelo com faixa etária:')\n",
    "print('R²-ajustado:', modelo_faixa.rsquared_adj)\n",
    "print('AIC:', modelo_faixa.aic)\n"
   ]
  }
 ],
 "metadata": {
  "kernelspec": {
   "display_name": "venv",
   "language": "python",
   "name": "python3"
  },
  "language_info": {
   "codemirror_mode": {
    "name": "ipython",
    "version": 3
   },
   "file_extension": ".py",
   "mimetype": "text/x-python",
   "name": "python",
   "nbconvert_exporter": "python",
   "pygments_lexer": "ipython3",
   "version": "3.12.0"
  }
 },
 "nbformat": 4,
 "nbformat_minor": 4
}
