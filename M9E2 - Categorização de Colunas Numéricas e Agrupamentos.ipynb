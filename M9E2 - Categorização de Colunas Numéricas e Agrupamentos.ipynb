{
  "cells": [
    {
      "cell_type": "markdown",
      "metadata": {
        "id": "eYvCczy6lTt7"
      },
      "source": [
        "# Livro para consulta:\n",
        "- https://jakevdp.github.io/PythonDataScienceHandbook/03.08-aggregation-and-grouping.html\n",
        "- https://jakevdp.github.io/PythonDataScienceHandbook/03.09-pivot-tables.html\n",
        "    "
      ]
    },
    {
      "cell_type": "markdown",
      "metadata": {
        "id": "oeWprAfnlTt-"
      },
      "source": [
        "# 1. Importando bibliotecas"
      ]
    },
    {
      "cell_type": "code",
      "execution_count": 1,
      "metadata": {
        "ExecuteTime": {
          "end_time": "2021-06-06T21:12:37.298706Z",
          "start_time": "2021-06-06T21:12:36.656481Z"
        },
        "id": "y_9gYudilTt_"
      },
      "outputs": [],
      "source": [
        "import numpy as np\n",
        "import pandas as pd\n",
        "import seaborn as sns\n",
        "import matplotlib.pyplot as plt\n",
        "\n",
        "%matplotlib inline"
      ]
    },
    {
      "cell_type": "markdown",
      "metadata": {
        "id": "-cpxC-IBlTuA"
      },
      "source": [
        "# 2. Carregando o dataframe SINASC"
      ]
    },
    {
      "cell_type": "code",
      "execution_count": 2,
      "metadata": {
        "ExecuteTime": {
          "end_time": "2021-06-06T21:12:37.762376Z",
          "start_time": "2021-06-06T21:12:37.728383Z"
        },
        "id": "nQZn7u4DlTuB",
        "outputId": "74b44036-69d9-4139-b291-621d77ed331b",
        "scrolled": true
      },
      "outputs": [
        {
          "data": {
            "text/html": [
              "<div>\n",
              "<style scoped>\n",
              "    .dataframe tbody tr th:only-of-type {\n",
              "        vertical-align: middle;\n",
              "    }\n",
              "\n",
              "    .dataframe tbody tr th {\n",
              "        vertical-align: top;\n",
              "    }\n",
              "\n",
              "    .dataframe thead th {\n",
              "        text-align: right;\n",
              "    }\n",
              "</style>\n",
              "<table border=\"1\" class=\"dataframe\">\n",
              "  <thead>\n",
              "    <tr style=\"text-align: right;\">\n",
              "      <th></th>\n",
              "      <th>ORIGEM</th>\n",
              "      <th>CODESTAB</th>\n",
              "      <th>CODMUNNASC</th>\n",
              "      <th>LOCNASC</th>\n",
              "      <th>IDADEMAE</th>\n",
              "      <th>ESTCIVMAE</th>\n",
              "      <th>ESCMAE</th>\n",
              "      <th>CODOCUPMAE</th>\n",
              "      <th>QTDFILVIVO</th>\n",
              "      <th>QTDFILMORT</th>\n",
              "      <th>...</th>\n",
              "      <th>KOTELCHUCK</th>\n",
              "      <th>CONTADOR</th>\n",
              "      <th>munResStatus</th>\n",
              "      <th>munResTipo</th>\n",
              "      <th>munResNome</th>\n",
              "      <th>munResUf</th>\n",
              "      <th>munResLat</th>\n",
              "      <th>munResLon</th>\n",
              "      <th>munResAlt</th>\n",
              "      <th>munResArea</th>\n",
              "    </tr>\n",
              "  </thead>\n",
              "  <tbody>\n",
              "    <tr>\n",
              "      <th>0</th>\n",
              "      <td>1</td>\n",
              "      <td>2679477.0</td>\n",
              "      <td>110001</td>\n",
              "      <td>1</td>\n",
              "      <td>19</td>\n",
              "      <td>5.0</td>\n",
              "      <td>8 a 11 anos</td>\n",
              "      <td>NaN</td>\n",
              "      <td>0.0</td>\n",
              "      <td>0.0</td>\n",
              "      <td>...</td>\n",
              "      <td>5</td>\n",
              "      <td>1</td>\n",
              "      <td>ATIVO</td>\n",
              "      <td>MUNIC</td>\n",
              "      <td>Alta Floresta D'Oeste</td>\n",
              "      <td>Rondônia</td>\n",
              "      <td>-11.93554</td>\n",
              "      <td>-61.99982</td>\n",
              "      <td>338.0</td>\n",
              "      <td>7067.025</td>\n",
              "    </tr>\n",
              "    <tr>\n",
              "      <th>1</th>\n",
              "      <td>1</td>\n",
              "      <td>2679477.0</td>\n",
              "      <td>110001</td>\n",
              "      <td>1</td>\n",
              "      <td>29</td>\n",
              "      <td>2.0</td>\n",
              "      <td>8 a 11 anos</td>\n",
              "      <td>999992.0</td>\n",
              "      <td>1.0</td>\n",
              "      <td>0.0</td>\n",
              "      <td>...</td>\n",
              "      <td>5</td>\n",
              "      <td>2</td>\n",
              "      <td>ATIVO</td>\n",
              "      <td>MUNIC</td>\n",
              "      <td>Alta Floresta D'Oeste</td>\n",
              "      <td>Rondônia</td>\n",
              "      <td>-11.93554</td>\n",
              "      <td>-61.99982</td>\n",
              "      <td>338.0</td>\n",
              "      <td>7067.025</td>\n",
              "    </tr>\n",
              "    <tr>\n",
              "      <th>2</th>\n",
              "      <td>1</td>\n",
              "      <td>2679477.0</td>\n",
              "      <td>110001</td>\n",
              "      <td>1</td>\n",
              "      <td>37</td>\n",
              "      <td>9.0</td>\n",
              "      <td>8 a 11 anos</td>\n",
              "      <td>513205.0</td>\n",
              "      <td>2.0</td>\n",
              "      <td>0.0</td>\n",
              "      <td>...</td>\n",
              "      <td>5</td>\n",
              "      <td>3</td>\n",
              "      <td>ATIVO</td>\n",
              "      <td>MUNIC</td>\n",
              "      <td>Alta Floresta D'Oeste</td>\n",
              "      <td>Rondônia</td>\n",
              "      <td>-11.93554</td>\n",
              "      <td>-61.99982</td>\n",
              "      <td>338.0</td>\n",
              "      <td>7067.025</td>\n",
              "    </tr>\n",
              "    <tr>\n",
              "      <th>3</th>\n",
              "      <td>1</td>\n",
              "      <td>2516500.0</td>\n",
              "      <td>110001</td>\n",
              "      <td>1</td>\n",
              "      <td>30</td>\n",
              "      <td>5.0</td>\n",
              "      <td>12 anos ou mais</td>\n",
              "      <td>231205.0</td>\n",
              "      <td>0.0</td>\n",
              "      <td>0.0</td>\n",
              "      <td>...</td>\n",
              "      <td>4</td>\n",
              "      <td>4</td>\n",
              "      <td>ATIVO</td>\n",
              "      <td>MUNIC</td>\n",
              "      <td>Alto Alegre dos Parecis</td>\n",
              "      <td>Rondônia</td>\n",
              "      <td>-12.13178</td>\n",
              "      <td>-61.85308</td>\n",
              "      <td>397.0</td>\n",
              "      <td>3958.273</td>\n",
              "    </tr>\n",
              "    <tr>\n",
              "      <th>4</th>\n",
              "      <td>1</td>\n",
              "      <td>2516500.0</td>\n",
              "      <td>110001</td>\n",
              "      <td>1</td>\n",
              "      <td>30</td>\n",
              "      <td>2.0</td>\n",
              "      <td>8 a 11 anos</td>\n",
              "      <td>999992.0</td>\n",
              "      <td>1.0</td>\n",
              "      <td>0.0</td>\n",
              "      <td>...</td>\n",
              "      <td>5</td>\n",
              "      <td>5</td>\n",
              "      <td>ATIVO</td>\n",
              "      <td>MUNIC</td>\n",
              "      <td>Alta Floresta D'Oeste</td>\n",
              "      <td>Rondônia</td>\n",
              "      <td>-11.93554</td>\n",
              "      <td>-61.99982</td>\n",
              "      <td>338.0</td>\n",
              "      <td>7067.025</td>\n",
              "    </tr>\n",
              "  </tbody>\n",
              "</table>\n",
              "<p>5 rows × 69 columns</p>\n",
              "</div>"
            ],
            "text/plain": [
              "   ORIGEM   CODESTAB  CODMUNNASC  LOCNASC  IDADEMAE  ESTCIVMAE  \\\n",
              "0       1  2679477.0      110001        1        19        5.0   \n",
              "1       1  2679477.0      110001        1        29        2.0   \n",
              "2       1  2679477.0      110001        1        37        9.0   \n",
              "3       1  2516500.0      110001        1        30        5.0   \n",
              "4       1  2516500.0      110001        1        30        2.0   \n",
              "\n",
              "            ESCMAE  CODOCUPMAE  QTDFILVIVO  QTDFILMORT  ...  KOTELCHUCK  \\\n",
              "0      8 a 11 anos         NaN         0.0         0.0  ...           5   \n",
              "1      8 a 11 anos    999992.0         1.0         0.0  ...           5   \n",
              "2      8 a 11 anos    513205.0         2.0         0.0  ...           5   \n",
              "3  12 anos ou mais    231205.0         0.0         0.0  ...           4   \n",
              "4      8 a 11 anos    999992.0         1.0         0.0  ...           5   \n",
              "\n",
              "  CONTADOR munResStatus munResTipo               munResNome  munResUf  \\\n",
              "0        1        ATIVO      MUNIC    Alta Floresta D'Oeste  Rondônia   \n",
              "1        2        ATIVO      MUNIC    Alta Floresta D'Oeste  Rondônia   \n",
              "2        3        ATIVO      MUNIC    Alta Floresta D'Oeste  Rondônia   \n",
              "3        4        ATIVO      MUNIC  Alto Alegre dos Parecis  Rondônia   \n",
              "4        5        ATIVO      MUNIC    Alta Floresta D'Oeste  Rondônia   \n",
              "\n",
              "   munResLat munResLon  munResAlt  munResArea  \n",
              "0  -11.93554 -61.99982      338.0    7067.025  \n",
              "1  -11.93554 -61.99982      338.0    7067.025  \n",
              "2  -11.93554 -61.99982      338.0    7067.025  \n",
              "3  -12.13178 -61.85308      397.0    3958.273  \n",
              "4  -11.93554 -61.99982      338.0    7067.025  \n",
              "\n",
              "[5 rows x 69 columns]"
            ]
          },
          "execution_count": 2,
          "metadata": {},
          "output_type": "execute_result"
        }
      ],
      "source": [
        "sinasc_raw = pd.read_csv('SINASC_RO_2019.csv')\n",
        "sinasc_raw.head()"
      ]
    },
    {
      "cell_type": "markdown",
      "metadata": {
        "id": "9GOoel3-lTuD"
      },
      "source": [
        "# Tarefa 2"
      ]
    },
    {
      "cell_type": "markdown",
      "metadata": {
        "id": "iNNeWswTlTuD"
      },
      "source": [
        "### 1. Crie 2 faixas de Latitude do município (munResLat) sendo uma acima e outra abaixo de -10.5 e aplique o groupby usando essas faixas como chave e realize operações de soma, media, minimo, maximo, mediana, desvio padrao, variancia pra pelo menos 2 variáveis numéricas ainda não utilizadas"
      ]
    },
    {
      "cell_type": "code",
      "execution_count": 9,
      "metadata": {
        "id": "HXtelNbnlTuE"
      },
      "outputs": [],
      "source": [
        "# Tarefa 2\n",
        "\n",
        "# 2, i) Criando função que categoriza latitude\n",
        "def categorizar_latitude(lat):\n",
        "    if lat > -10.5:\n",
        "        return 'Acima de -10.5'\n",
        "    else:\n",
        "        return 'Abaixo de -10.5'\n"
      ]
    },
    {
      "cell_type": "code",
      "execution_count": 8,
      "metadata": {},
      "outputs": [
        {
          "data": {
            "text/html": [
              "<div>\n",
              "<style scoped>\n",
              "    .dataframe tbody tr th:only-of-type {\n",
              "        vertical-align: middle;\n",
              "    }\n",
              "\n",
              "    .dataframe tbody tr th {\n",
              "        vertical-align: top;\n",
              "    }\n",
              "\n",
              "    .dataframe thead th {\n",
              "        text-align: right;\n",
              "    }\n",
              "</style>\n",
              "<table border=\"1\" class=\"dataframe\">\n",
              "  <thead>\n",
              "    <tr style=\"text-align: right;\">\n",
              "      <th></th>\n",
              "      <th>ORIGEM</th>\n",
              "      <th>CODMUNNASC</th>\n",
              "      <th>LOCNASC</th>\n",
              "      <th>IDADEMAE</th>\n",
              "      <th>CODMUNRES</th>\n",
              "      <th>CONSULTAS</th>\n",
              "      <th>PESO</th>\n",
              "      <th>NUMEROLOTE</th>\n",
              "      <th>DIFDATA</th>\n",
              "      <th>STDNEPIDEM</th>\n",
              "      <th>STDNNOVA</th>\n",
              "      <th>CODPAISRES</th>\n",
              "      <th>TPROBSON</th>\n",
              "      <th>PARIDADE</th>\n",
              "      <th>KOTELCHUCK</th>\n",
              "      <th>CONTADOR</th>\n",
              "    </tr>\n",
              "  </thead>\n",
              "  <tbody>\n",
              "    <tr>\n",
              "      <th>0</th>\n",
              "      <td>1</td>\n",
              "      <td>110001</td>\n",
              "      <td>1</td>\n",
              "      <td>19</td>\n",
              "      <td>110001</td>\n",
              "      <td>4</td>\n",
              "      <td>3685</td>\n",
              "      <td>20190004</td>\n",
              "      <td>17</td>\n",
              "      <td>0</td>\n",
              "      <td>1</td>\n",
              "      <td>1</td>\n",
              "      <td>1</td>\n",
              "      <td>0</td>\n",
              "      <td>5</td>\n",
              "      <td>1</td>\n",
              "    </tr>\n",
              "    <tr>\n",
              "      <th>1</th>\n",
              "      <td>1</td>\n",
              "      <td>110001</td>\n",
              "      <td>1</td>\n",
              "      <td>29</td>\n",
              "      <td>110001</td>\n",
              "      <td>4</td>\n",
              "      <td>3055</td>\n",
              "      <td>20190004</td>\n",
              "      <td>15</td>\n",
              "      <td>0</td>\n",
              "      <td>1</td>\n",
              "      <td>1</td>\n",
              "      <td>5</td>\n",
              "      <td>1</td>\n",
              "      <td>5</td>\n",
              "      <td>2</td>\n",
              "    </tr>\n",
              "    <tr>\n",
              "      <th>2</th>\n",
              "      <td>1</td>\n",
              "      <td>110001</td>\n",
              "      <td>1</td>\n",
              "      <td>37</td>\n",
              "      <td>110001</td>\n",
              "      <td>4</td>\n",
              "      <td>3460</td>\n",
              "      <td>20190004</td>\n",
              "      <td>11</td>\n",
              "      <td>0</td>\n",
              "      <td>1</td>\n",
              "      <td>1</td>\n",
              "      <td>7</td>\n",
              "      <td>1</td>\n",
              "      <td>5</td>\n",
              "      <td>3</td>\n",
              "    </tr>\n",
              "    <tr>\n",
              "      <th>3</th>\n",
              "      <td>1</td>\n",
              "      <td>110001</td>\n",
              "      <td>1</td>\n",
              "      <td>30</td>\n",
              "      <td>110037</td>\n",
              "      <td>3</td>\n",
              "      <td>2982</td>\n",
              "      <td>20190005</td>\n",
              "      <td>20</td>\n",
              "      <td>0</td>\n",
              "      <td>1</td>\n",
              "      <td>1</td>\n",
              "      <td>2</td>\n",
              "      <td>0</td>\n",
              "      <td>4</td>\n",
              "      <td>4</td>\n",
              "    </tr>\n",
              "    <tr>\n",
              "      <th>4</th>\n",
              "      <td>1</td>\n",
              "      <td>110001</td>\n",
              "      <td>1</td>\n",
              "      <td>30</td>\n",
              "      <td>110001</td>\n",
              "      <td>4</td>\n",
              "      <td>3310</td>\n",
              "      <td>20190005</td>\n",
              "      <td>17</td>\n",
              "      <td>0</td>\n",
              "      <td>1</td>\n",
              "      <td>1</td>\n",
              "      <td>5</td>\n",
              "      <td>1</td>\n",
              "      <td>5</td>\n",
              "      <td>5</td>\n",
              "    </tr>\n",
              "    <tr>\n",
              "      <th>...</th>\n",
              "      <td>...</td>\n",
              "      <td>...</td>\n",
              "      <td>...</td>\n",
              "      <td>...</td>\n",
              "      <td>...</td>\n",
              "      <td>...</td>\n",
              "      <td>...</td>\n",
              "      <td>...</td>\n",
              "      <td>...</td>\n",
              "      <td>...</td>\n",
              "      <td>...</td>\n",
              "      <td>...</td>\n",
              "      <td>...</td>\n",
              "      <td>...</td>\n",
              "      <td>...</td>\n",
              "      <td>...</td>\n",
              "    </tr>\n",
              "    <tr>\n",
              "      <th>27023</th>\n",
              "      <td>1</td>\n",
              "      <td>510340</td>\n",
              "      <td>1</td>\n",
              "      <td>32</td>\n",
              "      <td>110030</td>\n",
              "      <td>4</td>\n",
              "      <td>2110</td>\n",
              "      <td>20200044</td>\n",
              "      <td>305</td>\n",
              "      <td>0</td>\n",
              "      <td>1</td>\n",
              "      <td>1</td>\n",
              "      <td>7</td>\n",
              "      <td>1</td>\n",
              "      <td>5</td>\n",
              "      <td>2767632</td>\n",
              "    </tr>\n",
              "    <tr>\n",
              "      <th>27024</th>\n",
              "      <td>1</td>\n",
              "      <td>510675</td>\n",
              "      <td>1</td>\n",
              "      <td>19</td>\n",
              "      <td>110092</td>\n",
              "      <td>4</td>\n",
              "      <td>3310</td>\n",
              "      <td>20190038</td>\n",
              "      <td>17</td>\n",
              "      <td>0</td>\n",
              "      <td>1</td>\n",
              "      <td>1</td>\n",
              "      <td>1</td>\n",
              "      <td>0</td>\n",
              "      <td>5</td>\n",
              "      <td>2772678</td>\n",
              "    </tr>\n",
              "    <tr>\n",
              "      <th>27025</th>\n",
              "      <td>1</td>\n",
              "      <td>510787</td>\n",
              "      <td>1</td>\n",
              "      <td>24</td>\n",
              "      <td>110030</td>\n",
              "      <td>4</td>\n",
              "      <td>3065</td>\n",
              "      <td>20190025</td>\n",
              "      <td>5</td>\n",
              "      <td>0</td>\n",
              "      <td>1</td>\n",
              "      <td>1</td>\n",
              "      <td>3</td>\n",
              "      <td>1</td>\n",
              "      <td>5</td>\n",
              "      <td>2776905</td>\n",
              "    </tr>\n",
              "    <tr>\n",
              "      <th>27026</th>\n",
              "      <td>1</td>\n",
              "      <td>510787</td>\n",
              "      <td>1</td>\n",
              "      <td>21</td>\n",
              "      <td>110030</td>\n",
              "      <td>4</td>\n",
              "      <td>2352</td>\n",
              "      <td>20200003</td>\n",
              "      <td>15</td>\n",
              "      <td>0</td>\n",
              "      <td>1</td>\n",
              "      <td>1</td>\n",
              "      <td>10</td>\n",
              "      <td>1</td>\n",
              "      <td>5</td>\n",
              "      <td>2777105</td>\n",
              "    </tr>\n",
              "    <tr>\n",
              "      <th>27027</th>\n",
              "      <td>1</td>\n",
              "      <td>510792</td>\n",
              "      <td>1</td>\n",
              "      <td>18</td>\n",
              "      <td>110050</td>\n",
              "      <td>4</td>\n",
              "      <td>4240</td>\n",
              "      <td>20200041</td>\n",
              "      <td>294</td>\n",
              "      <td>0</td>\n",
              "      <td>1</td>\n",
              "      <td>1</td>\n",
              "      <td>7</td>\n",
              "      <td>1</td>\n",
              "      <td>5</td>\n",
              "      <td>2780269</td>\n",
              "    </tr>\n",
              "  </tbody>\n",
              "</table>\n",
              "<p>27028 rows × 16 columns</p>\n",
              "</div>"
            ],
            "text/plain": [
              "       ORIGEM  CODMUNNASC  LOCNASC  IDADEMAE  CODMUNRES  CONSULTAS  PESO  \\\n",
              "0           1      110001        1        19     110001          4  3685   \n",
              "1           1      110001        1        29     110001          4  3055   \n",
              "2           1      110001        1        37     110001          4  3460   \n",
              "3           1      110001        1        30     110037          3  2982   \n",
              "4           1      110001        1        30     110001          4  3310   \n",
              "...       ...         ...      ...       ...        ...        ...   ...   \n",
              "27023       1      510340        1        32     110030          4  2110   \n",
              "27024       1      510675        1        19     110092          4  3310   \n",
              "27025       1      510787        1        24     110030          4  3065   \n",
              "27026       1      510787        1        21     110030          4  2352   \n",
              "27027       1      510792        1        18     110050          4  4240   \n",
              "\n",
              "       NUMEROLOTE  DIFDATA  STDNEPIDEM  STDNNOVA  CODPAISRES  TPROBSON  \\\n",
              "0        20190004       17           0         1           1         1   \n",
              "1        20190004       15           0         1           1         5   \n",
              "2        20190004       11           0         1           1         7   \n",
              "3        20190005       20           0         1           1         2   \n",
              "4        20190005       17           0         1           1         5   \n",
              "...           ...      ...         ...       ...         ...       ...   \n",
              "27023    20200044      305           0         1           1         7   \n",
              "27024    20190038       17           0         1           1         1   \n",
              "27025    20190025        5           0         1           1         3   \n",
              "27026    20200003       15           0         1           1        10   \n",
              "27027    20200041      294           0         1           1         7   \n",
              "\n",
              "       PARIDADE  KOTELCHUCK  CONTADOR  \n",
              "0             0           5         1  \n",
              "1             1           5         2  \n",
              "2             1           5         3  \n",
              "3             0           4         4  \n",
              "4             1           5         5  \n",
              "...         ...         ...       ...  \n",
              "27023         1           5   2767632  \n",
              "27024         0           5   2772678  \n",
              "27025         1           5   2776905  \n",
              "27026         1           5   2777105  \n",
              "27027         1           5   2780269  \n",
              "\n",
              "[27028 rows x 16 columns]"
            ]
          },
          "execution_count": 8,
          "metadata": {},
          "output_type": "execute_result"
        }
      ],
      "source": [
        "# 2, ii) Vendo colunas numéricas para pegar uma que ainda não foi utilizada\n",
        "sinasc_raw.select_dtypes(include=['Int64'])"
      ]
    },
    {
      "cell_type": "markdown",
      "metadata": {},
      "source": [
        "Iremos analisar as colunas 'Peso' e 'DIFDATA'."
      ]
    },
    {
      "cell_type": "code",
      "execution_count": 12,
      "metadata": {},
      "outputs": [
        {
          "data": {
            "text/plain": [
              "0        Acima de -10.5\n",
              "1        Acima de -10.5\n",
              "2        Acima de -10.5\n",
              "3        Acima de -10.5\n",
              "4        Acima de -10.5\n",
              "              ...      \n",
              "27023    Acima de -10.5\n",
              "27024    Acima de -10.5\n",
              "27025    Acima de -10.5\n",
              "27026    Acima de -10.5\n",
              "27027    Acima de -10.5\n",
              "Name: LATITUDE, Length: 27028, dtype: object"
            ]
          },
          "execution_count": 12,
          "metadata": {},
          "output_type": "execute_result"
        }
      ],
      "source": [
        "# 2, iii) Aplicando o mapping pra classificar as faixas de latitude\n",
        "sinasc_raw['LATITUDE'] = sinasc_raw['munResAlt'].map(categorizar_latitude)\n",
        "sinasc_raw.LATITUDE"
      ]
    },
    {
      "cell_type": "code",
      "execution_count": 13,
      "metadata": {},
      "outputs": [
        {
          "data": {
            "text/html": [
              "<div>\n",
              "<style scoped>\n",
              "    .dataframe tbody tr th:only-of-type {\n",
              "        vertical-align: middle;\n",
              "    }\n",
              "\n",
              "    .dataframe tbody tr th {\n",
              "        vertical-align: top;\n",
              "    }\n",
              "\n",
              "    .dataframe thead tr th {\n",
              "        text-align: left;\n",
              "    }\n",
              "\n",
              "    .dataframe thead tr:last-of-type th {\n",
              "        text-align: right;\n",
              "    }\n",
              "</style>\n",
              "<table border=\"1\" class=\"dataframe\">\n",
              "  <thead>\n",
              "    <tr>\n",
              "      <th></th>\n",
              "      <th colspan=\"7\" halign=\"left\">PESO</th>\n",
              "      <th colspan=\"7\" halign=\"left\">DIFDATA</th>\n",
              "    </tr>\n",
              "    <tr>\n",
              "      <th></th>\n",
              "      <th>sum</th>\n",
              "      <th>mean</th>\n",
              "      <th>min</th>\n",
              "      <th>max</th>\n",
              "      <th>median</th>\n",
              "      <th>std</th>\n",
              "      <th>var</th>\n",
              "      <th>sum</th>\n",
              "      <th>mean</th>\n",
              "      <th>min</th>\n",
              "      <th>max</th>\n",
              "      <th>median</th>\n",
              "      <th>std</th>\n",
              "      <th>var</th>\n",
              "    </tr>\n",
              "    <tr>\n",
              "      <th>LATITUDE</th>\n",
              "      <th></th>\n",
              "      <th></th>\n",
              "      <th></th>\n",
              "      <th></th>\n",
              "      <th></th>\n",
              "      <th></th>\n",
              "      <th></th>\n",
              "      <th></th>\n",
              "      <th></th>\n",
              "      <th></th>\n",
              "      <th></th>\n",
              "      <th></th>\n",
              "      <th></th>\n",
              "      <th></th>\n",
              "    </tr>\n",
              "  </thead>\n",
              "  <tbody>\n",
              "    <tr>\n",
              "      <th>Abaixo de -10.5</th>\n",
              "      <td>3215</td>\n",
              "      <td>3215.000000</td>\n",
              "      <td>3215</td>\n",
              "      <td>3215</td>\n",
              "      <td>3215.0</td>\n",
              "      <td>NaN</td>\n",
              "      <td>NaN</td>\n",
              "      <td>36</td>\n",
              "      <td>36.000000</td>\n",
              "      <td>36</td>\n",
              "      <td>36</td>\n",
              "      <td>36.0</td>\n",
              "      <td>NaN</td>\n",
              "      <td>NaN</td>\n",
              "    </tr>\n",
              "    <tr>\n",
              "      <th>Acima de -10.5</th>\n",
              "      <td>87653742</td>\n",
              "      <td>3243.191697</td>\n",
              "      <td>258</td>\n",
              "      <td>5985</td>\n",
              "      <td>3270.0</td>\n",
              "      <td>544.764148</td>\n",
              "      <td>296767.976608</td>\n",
              "      <td>869332</td>\n",
              "      <td>32.165316</td>\n",
              "      <td>1</td>\n",
              "      <td>652</td>\n",
              "      <td>28.0</td>\n",
              "      <td>25.461619</td>\n",
              "      <td>648.294064</td>\n",
              "    </tr>\n",
              "  </tbody>\n",
              "</table>\n",
              "</div>"
            ],
            "text/plain": [
              "                     PESO                                               \\\n",
              "                      sum         mean   min   max  median         std   \n",
              "LATITUDE                                                                 \n",
              "Abaixo de -10.5      3215  3215.000000  3215  3215  3215.0         NaN   \n",
              "Acima de -10.5   87653742  3243.191697   258  5985  3270.0  544.764148   \n",
              "\n",
              "                               DIFDATA                                        \\\n",
              "                           var     sum       mean min  max median        std   \n",
              "LATITUDE                                                                       \n",
              "Abaixo de -10.5            NaN      36  36.000000  36   36   36.0        NaN   \n",
              "Acima de -10.5   296767.976608  869332  32.165316   1  652   28.0  25.461619   \n",
              "\n",
              "                             \n",
              "                        var  \n",
              "LATITUDE                     \n",
              "Abaixo de -10.5         NaN  \n",
              "Acima de -10.5   648.294064  "
            ]
          },
          "execution_count": 13,
          "metadata": {},
          "output_type": "execute_result"
        }
      ],
      "source": [
        "# 2, iii) Criando o DataFrame agrupado\n",
        "sinasc_raw.groupby('LATITUDE').agg(\n",
        "    {\n",
        "        'PESO': ['sum', 'mean', 'min', 'max', 'median', 'std', 'var'],\n",
        "        'DIFDATA': ['sum', 'mean', 'min', 'max', 'median', 'std', 'var']\n",
        "    }\n",
        ")"
      ]
    },
    {
      "cell_type": "markdown",
      "metadata": {
        "id": "AK33D0mdlTuE"
      },
      "source": [
        "### 2. Crie 2 faixas da área dos municípios (munResArea) sendo uma acima e outra abaixo de 3000 e aplique o groupby usando essas faixas como chave e realize operações de soma, media, minimo, maximo, mediana, desvio padrao, variancia pra pelo menos 2 variáveis numéricas ainda não utilizadas\n"
      ]
    },
    {
      "cell_type": "code",
      "execution_count": 15,
      "metadata": {
        "id": "qqCXJtYIlTuE"
      },
      "outputs": [
        {
          "data": {
            "text/html": [
              "<div>\n",
              "<style scoped>\n",
              "    .dataframe tbody tr th:only-of-type {\n",
              "        vertical-align: middle;\n",
              "    }\n",
              "\n",
              "    .dataframe tbody tr th {\n",
              "        vertical-align: top;\n",
              "    }\n",
              "\n",
              "    .dataframe thead tr th {\n",
              "        text-align: left;\n",
              "    }\n",
              "\n",
              "    .dataframe thead tr:last-of-type th {\n",
              "        text-align: right;\n",
              "    }\n",
              "</style>\n",
              "<table border=\"1\" class=\"dataframe\">\n",
              "  <thead>\n",
              "    <tr>\n",
              "      <th></th>\n",
              "      <th colspan=\"7\" halign=\"left\">PARIDADE</th>\n",
              "      <th colspan=\"7\" halign=\"left\">CONSULTAS</th>\n",
              "    </tr>\n",
              "    <tr>\n",
              "      <th></th>\n",
              "      <th>sum</th>\n",
              "      <th>mean</th>\n",
              "      <th>min</th>\n",
              "      <th>max</th>\n",
              "      <th>median</th>\n",
              "      <th>std</th>\n",
              "      <th>var</th>\n",
              "      <th>sum</th>\n",
              "      <th>mean</th>\n",
              "      <th>min</th>\n",
              "      <th>max</th>\n",
              "      <th>median</th>\n",
              "      <th>std</th>\n",
              "      <th>var</th>\n",
              "    </tr>\n",
              "    <tr>\n",
              "      <th>AREA</th>\n",
              "      <th></th>\n",
              "      <th></th>\n",
              "      <th></th>\n",
              "      <th></th>\n",
              "      <th></th>\n",
              "      <th></th>\n",
              "      <th></th>\n",
              "      <th></th>\n",
              "      <th></th>\n",
              "      <th></th>\n",
              "      <th></th>\n",
              "      <th></th>\n",
              "      <th></th>\n",
              "      <th></th>\n",
              "    </tr>\n",
              "  </thead>\n",
              "  <tbody>\n",
              "    <tr>\n",
              "      <th>Abaixo de 3000m</th>\n",
              "      <td>3363</td>\n",
              "      <td>0.644253</td>\n",
              "      <td>0</td>\n",
              "      <td>1</td>\n",
              "      <td>1.0</td>\n",
              "      <td>0.478785</td>\n",
              "      <td>0.229235</td>\n",
              "      <td>19521</td>\n",
              "      <td>3.739655</td>\n",
              "      <td>1</td>\n",
              "      <td>9</td>\n",
              "      <td>4.0</td>\n",
              "      <td>0.608617</td>\n",
              "      <td>0.370414</td>\n",
              "    </tr>\n",
              "    <tr>\n",
              "      <th>Acima de 3000m</th>\n",
              "      <td>14172</td>\n",
              "      <td>0.649853</td>\n",
              "      <td>0</td>\n",
              "      <td>1</td>\n",
              "      <td>1.0</td>\n",
              "      <td>0.477027</td>\n",
              "      <td>0.227554</td>\n",
              "      <td>77142</td>\n",
              "      <td>3.537326</td>\n",
              "      <td>1</td>\n",
              "      <td>9</td>\n",
              "      <td>4.0</td>\n",
              "      <td>0.820967</td>\n",
              "      <td>0.673986</td>\n",
              "    </tr>\n",
              "  </tbody>\n",
              "</table>\n",
              "</div>"
            ],
            "text/plain": [
              "                PARIDADE                                               \\\n",
              "                     sum      mean min max median       std       var   \n",
              "AREA                                                                    \n",
              "Abaixo de 3000m     3363  0.644253   0   1    1.0  0.478785  0.229235   \n",
              "Acima de 3000m     14172  0.649853   0   1    1.0  0.477027  0.227554   \n",
              "\n",
              "                CONSULTAS                                               \n",
              "                      sum      mean min max median       std       var  \n",
              "AREA                                                                    \n",
              "Abaixo de 3000m     19521  3.739655   1   9    4.0  0.608617  0.370414  \n",
              "Acima de 3000m      77142  3.537326   1   9    4.0  0.820967  0.673986  "
            ]
          },
          "execution_count": 15,
          "metadata": {},
          "output_type": "execute_result"
        }
      ],
      "source": [
        "# 2) Criando faixa de município por área\n",
        "# 2, i) Função para categorizar a área\n",
        "def categorizar_area(area):\n",
        "    if area > 3000:\n",
        "        return 'Acima de 3000m'\n",
        "    else:\n",
        "        return 'Abaixo de 3000m'\n",
        "    \n",
        "# 2, ii) Criar uma coluna de área mapeada com a função que criamos:\n",
        "sinasc_raw['AREA'] = sinasc_raw['munResArea'].map(categorizar_area)\n",
        "\n",
        "# 2, iii) Criar o dataframe agrupado\n",
        "sinasc_raw.groupby('AREA').agg(\n",
        "    {\n",
        "        'PARIDADE': ['sum', 'mean', 'min', 'max', 'median', 'std', 'var'],\n",
        "        'CONSULTAS': ['sum', 'mean', 'min', 'max', 'median', 'std', 'var']\n",
        "    }\n",
        ")"
      ]
    },
    {
      "cell_type": "markdown",
      "metadata": {
        "id": "aWaljnnxlTuE"
      },
      "source": [
        "### 3. Determine faixas na variável munResAlt e aplique o groupby usando essas faixas como chave e realize operações de soma, media, minimo, maximo, mediana, desvio padrao, variancia pra pelo menos 2 variáveis numéricas ainda não utilizadas"
      ]
    },
    {
      "cell_type": "code",
      "execution_count": 26,
      "metadata": {},
      "outputs": [
        {
          "name": "stdout",
          "output_type": "stream",
          "text": [
            "Mínimo de latitude: -13.5, e máximo de latitude: -8.77\n",
            "A latitude média é de -10.38.\n"
          ]
        },
        {
          "data": {
            "image/png": "[encoded data removed]",
            "text/plain": [
              "<Figure size 640x480 with 1 Axes>"
            ]
          },
          "metadata": {},
          "output_type": "display_data"
        }
      ],
      "source": [
        "# 3, i) Visualizando um histograma das latitudes pra criar uma nova classificação de latitude\n",
        "sinasc_raw.munResLat.hist()\n",
        "minimo_lat = sinasc_raw.munResLat.min()\n",
        "maximo_lat = sinasc_raw.munResLat.max()\n",
        "media_lat = sinasc_raw.munResLat.mean()\n",
        "\n",
        "\n",
        "print(f'Mínimo de latitude: {minimo_lat.round(2)}, e máximo de latitude: {maximo_lat.round(2)}')\n",
        "print(f'A latitude média é de {media_lat.round(2)}.')"
      ]
    },
    {
      "cell_type": "code",
      "execution_count": 35,
      "metadata": {},
      "outputs": [
        {
          "data": {
            "text/html": [
              "<div>\n",
              "<style scoped>\n",
              "    .dataframe tbody tr th:only-of-type {\n",
              "        vertical-align: middle;\n",
              "    }\n",
              "\n",
              "    .dataframe tbody tr th {\n",
              "        vertical-align: top;\n",
              "    }\n",
              "\n",
              "    .dataframe thead tr th {\n",
              "        text-align: left;\n",
              "    }\n",
              "\n",
              "    .dataframe thead tr:last-of-type th {\n",
              "        text-align: right;\n",
              "    }\n",
              "</style>\n",
              "<table border=\"1\" class=\"dataframe\">\n",
              "  <thead>\n",
              "    <tr>\n",
              "      <th></th>\n",
              "      <th colspan=\"7\" halign=\"left\">CODPAISRES</th>\n",
              "      <th colspan=\"7\" halign=\"left\">STDNEPIDEM</th>\n",
              "    </tr>\n",
              "    <tr>\n",
              "      <th></th>\n",
              "      <th>sum</th>\n",
              "      <th>mean</th>\n",
              "      <th>min</th>\n",
              "      <th>max</th>\n",
              "      <th>median</th>\n",
              "      <th>std</th>\n",
              "      <th>var</th>\n",
              "      <th>sum</th>\n",
              "      <th>mean</th>\n",
              "      <th>min</th>\n",
              "      <th>max</th>\n",
              "      <th>median</th>\n",
              "      <th>std</th>\n",
              "      <th>var</th>\n",
              "    </tr>\n",
              "    <tr>\n",
              "      <th>LATITUDE_MEDIA</th>\n",
              "      <th></th>\n",
              "      <th></th>\n",
              "      <th></th>\n",
              "      <th></th>\n",
              "      <th></th>\n",
              "      <th></th>\n",
              "      <th></th>\n",
              "      <th></th>\n",
              "      <th></th>\n",
              "      <th></th>\n",
              "      <th></th>\n",
              "      <th></th>\n",
              "      <th></th>\n",
              "      <th></th>\n",
              "    </tr>\n",
              "  </thead>\n",
              "  <tbody>\n",
              "    <tr>\n",
              "      <th>Latitude abaixo da média</th>\n",
              "      <td>14388</td>\n",
              "      <td>1.0</td>\n",
              "      <td>1</td>\n",
              "      <td>1</td>\n",
              "      <td>1.0</td>\n",
              "      <td>0.0</td>\n",
              "      <td>0.0</td>\n",
              "      <td>0</td>\n",
              "      <td>0.0</td>\n",
              "      <td>0</td>\n",
              "      <td>0</td>\n",
              "      <td>0.0</td>\n",
              "      <td>0.0</td>\n",
              "      <td>0.0</td>\n",
              "    </tr>\n",
              "    <tr>\n",
              "      <th>Latitude acima da média</th>\n",
              "      <td>12640</td>\n",
              "      <td>1.0</td>\n",
              "      <td>1</td>\n",
              "      <td>1</td>\n",
              "      <td>1.0</td>\n",
              "      <td>0.0</td>\n",
              "      <td>0.0</td>\n",
              "      <td>0</td>\n",
              "      <td>0.0</td>\n",
              "      <td>0</td>\n",
              "      <td>0</td>\n",
              "      <td>0.0</td>\n",
              "      <td>0.0</td>\n",
              "      <td>0.0</td>\n",
              "    </tr>\n",
              "  </tbody>\n",
              "</table>\n",
              "</div>"
            ],
            "text/plain": [
              "                         CODPAISRES                               STDNEPIDEM  \\\n",
              "                                sum mean min max median  std  var        sum   \n",
              "LATITUDE_MEDIA                                                                 \n",
              "Latitude abaixo da média      14388  1.0   1   1    1.0  0.0  0.0          0   \n",
              "Latitude acima da média       12640  1.0   1   1    1.0  0.0  0.0          0   \n",
              "\n",
              "                                                        \n",
              "                         mean min max median  std  var  \n",
              "LATITUDE_MEDIA                                          \n",
              "Latitude abaixo da média  0.0   0   0    0.0  0.0  0.0  \n",
              "Latitude acima da média   0.0   0   0    0.0  0.0  0.0  "
            ]
          },
          "execution_count": 35,
          "metadata": {},
          "output_type": "execute_result"
        }
      ],
      "source": [
        "# 3, i) Criando uma função pra classificar latitude\n",
        "def categorizar_latitude_nova(lat):\n",
        "    if lat > -10.38:\n",
        "        return \"Latitude acima da média\"\n",
        "    else:\n",
        "        return \"Latitude abaixo da média\"\n",
        "    \n",
        "# 3, ii) Criando uma coluna mapeada\n",
        "sinasc_raw['LATITUDE_MEDIA'] = sinasc_raw['munResLat'].map(categorizar_latitude_nova)\n",
        "\n",
        "# 3, iii) Criando o dataframe argupado\n",
        "sinasc_raw.groupby('LATITUDE_MEDIA').agg(\n",
        "    {\n",
        "        'CODPAISRES': ['sum', 'mean', 'min', 'max', 'median', 'std', 'var'],\n",
        "        'STDNEPIDEM': ['sum', 'mean', 'min', 'max', 'median', 'std', 'var'],\n",
        "    }\n",
        ")"
      ]
    },
    {
      "cell_type": "markdown",
      "metadata": {
        "id": "aF1riawJlTuF"
      },
      "source": [
        "### 4. Plote no mesmo grafico ao longo do tempo a idade media das mulheres de cada regiao imediatas de rondonia\n"
      ]
    },
    {
      "cell_type": "code",
      "execution_count": 36,
      "metadata": {
        "id": "6aZM5xKale9c"
      },
      "outputs": [],
      "source": [
        "# 4, I) Regiões imediatas\n",
        "imediatas = {\n",
        "    \"Candeias do Jamari\": \"Porto Velho\",\n",
        "    \"Guajará-Mirim\": \"Porto Velho\",\n",
        "    \"Itapuã do Oeste\": \"Porto Velho\",\n",
        "    \"Nova Mamoré\": \"Porto Velho\",\n",
        "    \"Porto Velho\": \"Porto Velho\",\n",
        "    \"Ariquemes\": \"Ariquemes\",\n",
        "    \"Alto Paraíso\": \"Ariquemes\",\n",
        "    \"Buritis\": \"Ariquemes\",\n",
        "    \"Cacaulândia\": \"Ariquemes\",\n",
        "    \"Campo Novo de Rondônia\": \"Ariquemes\",\n",
        "    \"Cujubim\": \"Ariquemes\",\n",
        "    \"Monte Negro\": \"Ariquemes\",\n",
        "    \"Rio Crespo\": \"Ariquemes\",\n",
        "    \"Jaru\": \"Jaru\",\n",
        "    \"Governador Jorge Teixeira\": \"Jaru\",\n",
        "    \"Machadinho D'Oeste\": \"Jaru\",\n",
        "    \"Theobroma\": \"Jaru\",\n",
        "    \"Vale do Anari\": \"Jaru\",\n",
        "    \"Alvorada D'Oeste\": \"Ji-Paraná\",\n",
        "    \"Costa Marques\": \"Ji-Paraná\",\n",
        "    \"Ji-Paraná\": \"Ji-Paraná\",\n",
        "    \"Mirante da Serra\": \"Ji-Paraná\",\n",
        "    \"Nova União\": \"Ji-Paraná\",\n",
        "    \"Ouro Preto do Oeste\": \"Ji-Paraná\",\n",
        "    \"Presidente Médici\": \"Ji-Paraná\",\n",
        "    \"São Francisco do Guaporé\": \"Ji-Paraná\",\n",
        "    \"São Miguel do Guaporé\": \"Ji-Paraná\",\n",
        "    \"Seringueiras\": \"Ji-Paraná\",\n",
        "    \"Teixeirópolis\": \"Ji-Paraná\",\n",
        "    \"Urupá\": \"Ji-Paraná\",\n",
        "    \"Vale do Paraíso\": \"Ji-Paraná\",\n",
        "    \"Cacoal\": \"Cacoal\",\n",
        "    \"Alta Floresta D'Oeste\": \"Cacoal\",\n",
        "    \"Alto Alegre dos Parecis\": \"Cacoal\",\n",
        "    \"Castanheiras\": \"Cacoal\",\n",
        "    \"Espigão D'Oeste\": \"Cacoal\",\n",
        "    \"Ministro Andreazza\": \"Cacoal\",\n",
        "    \"Nova Brasilândia D'Oeste\": \"Cacoal\",\n",
        "    \"Novo Horizonte do Oeste\": \"Cacoal\",\n",
        "    \"Parecis\": \"Cacoal\",\n",
        "    \"Pimenta Bueno\": \"Cacoal\",\n",
        "    \"Primavera de Rondônia\": \"Cacoal\",\n",
        "    \"Rolim de Moura\": \"Cacoal\",\n",
        "    \"Santa Luzia D'Oeste\": \"Cacoal\",\n",
        "    \"São Felipe D'Oeste\": \"Cacoal\",\n",
        "    \"Vilhena\": \"Vilhena\",\n",
        "    \"Cabixi\": \"Vilhena\",\n",
        "    \"Cerejeiras\": \"Vilhena\",\n",
        "    \"Chupinguaia\": \"Vilhena\",\n",
        "    \"Colorado do Oeste\": \"Vilhena\",\n",
        "    \"Corumbiara\": \"Vilhena\",\n",
        "    \"Pimenteiras do Oeste\": \"Vilhena\"\n",
        "}"
      ]
    },
    {
      "cell_type": "code",
      "execution_count": 48,
      "metadata": {},
      "outputs": [
        {
          "data": {
            "image/png": "[encoded data removed]",
            "text/plain": [
              "<Figure size 640x480 with 1 Axes>"
            ]
          },
          "metadata": {},
          "output_type": "display_data"
        }
      ],
      "source": [
        "# 4, ii) Mapear as regiões imediatas\n",
        "sinasc_raw['REGIAO_IMEDIATA'] = sinasc_raw['munResNome'].map(imediatas)\n",
        "idade_media = sinasc_raw.groupby(['DTNASC', 'REGIAO_IMEDIATA'])['IDADEMAE'].mean().reset_index()\n",
        "plot = idade_media.pivot(index='DTNASC', columns='REGIAO_IMEDIATA', values='IDADEMAE').plot()\n",
        "\n",
        "plt.show(plot)"
      ]
    },
    {
      "cell_type": "markdown",
      "metadata": {
        "id": "yt-LIWxblTuF"
      },
      "source": [
        "### 5. Utilize a tabela do link abaixo e crie faixas utilizando o mapping e gere agrupamentos utilizando essas faixas como chave\n"
      ]
    },
    {
      "cell_type": "markdown",
      "metadata": {},
      "source": [
        "Para facilitar, usaremos um DataFrame que já nos trás os dados de IDH, IFDM e PIB de cada município, disponível em: [https://drive.google.com/file/d/1YJjpX40oJ_tL6NOodYFsAW-gU6It4ptk/view].\n",
        "Caso não fôssemos usar esses dados, faríamos manualmente o mapping criando dicionários de mapeamento."
      ]
    },
    {
      "cell_type": "code",
      "execution_count": 62,
      "metadata": {},
      "outputs": [
        {
          "data": {
            "text/plain": [
              "Index(['municipio', 'regiao', 'idh', 'ifdm', 'pib'], dtype='object')"
            ]
          },
          "execution_count": 62,
          "metadata": {},
          "output_type": "execute_result"
        }
      ],
      "source": [
        "# 5, i) Importando as estatísticas de cada região\n",
        "df_dados_regioes_imediatas = pd.read_csv('dados_extras_ro.csv', sep=';', encoding='latin1')\n",
        "df = df_dados_regioes_imediatas\n",
        "df.columns"
      ]
    },
    {
      "cell_type": "markdown",
      "metadata": {
        "id": "moZakjgIlTuF"
      },
      "source": [
        "### 5.1 IDH\n",
        "A - https://pt.wikipedia.org/wiki/Lista_de_munic%C3%ADpios_de_Rond%C3%B4nia_por_IDH-M\n"
      ]
    },
    {
      "cell_type": "code",
      "execution_count": 59,
      "metadata": {
        "id": "DaJk66_BlTuF"
      },
      "outputs": [],
      "source": [
        "# 5.1, i) Criando o categorizador de IDH:\n",
        "def categorizar_idh(idh):\n",
        "    if idh >= 0.700:\n",
        "        return 'Alto'\n",
        "    elif idh < 700 and idh >= 600:\n",
        "        return 'Medio'\n",
        "    else:\n",
        "        return 'Baixo'"
      ]
    },
    {
      "cell_type": "code",
      "execution_count": 85,
      "metadata": {},
      "outputs": [
        {
          "data": {
            "text/html": [
              "<div>\n",
              "<style scoped>\n",
              "    .dataframe tbody tr th:only-of-type {\n",
              "        vertical-align: middle;\n",
              "    }\n",
              "\n",
              "    .dataframe tbody tr th {\n",
              "        vertical-align: top;\n",
              "    }\n",
              "\n",
              "    .dataframe thead th {\n",
              "        text-align: right;\n",
              "    }\n",
              "</style>\n",
              "<table border=\"1\" class=\"dataframe\">\n",
              "  <thead>\n",
              "    <tr style=\"text-align: right;\">\n",
              "      <th></th>\n",
              "      <th>idh_classificacao</th>\n",
              "      <th>Contagem de Municípios</th>\n",
              "    </tr>\n",
              "  </thead>\n",
              "  <tbody>\n",
              "    <tr>\n",
              "      <th>0</th>\n",
              "      <td>Alto</td>\n",
              "      <td>7</td>\n",
              "    </tr>\n",
              "    <tr>\n",
              "      <th>1</th>\n",
              "      <td>Baixo</td>\n",
              "      <td>45</td>\n",
              "    </tr>\n",
              "  </tbody>\n",
              "</table>\n",
              "</div>"
            ],
            "text/plain": [
              "  idh_classificacao  Contagem de Municípios\n",
              "0              Alto                       7\n",
              "1             Baixo                      45"
            ]
          },
          "execution_count": 85,
          "metadata": {},
          "output_type": "execute_result"
        }
      ],
      "source": [
        "# 5.1, ii) Criando uma coluna de IDH\n",
        "df['idh_classificacao'] = df['idh'].map(categorizar_idh)\n",
        "\n",
        "# 5.1, iii) IDH Alto e Baixo POR MUNICÍPIOS\n",
        "idh_rondonia = df.groupby('idh_classificacao').size().reset_index(name='Contagem de Municípios')\n",
        "idh_rondonia"
      ]
    },
    {
      "cell_type": "code",
      "execution_count": 93,
      "metadata": {},
      "outputs": [
        {
          "data": {
            "image/png": "[encoded data removed]",
            "text/plain": [
              "<Figure size 1000x600 with 1 Axes>"
            ]
          },
          "metadata": {},
          "output_type": "display_data"
        }
      ],
      "source": [
        "# 5.1, iv) Analisando o idh de Rondônia graficamente\n",
        "idh_rondonia.plot(\n",
        "    kind='bar',\n",
        "    title='Distribuição de IDH em Rondônia',\n",
        "    figsize=(10, 6),\n",
        "    xlabel='Classificação IDH',\n",
        "    ylabel='Número de Municípios',\n",
        ")\n",
        "\n",
        "plt.xticks([0, 1], ['Alto', 'Baixo'])\n",
        "plt.show()"
      ]
    },
    {
      "cell_type": "code",
      "execution_count": 96,
      "metadata": {},
      "outputs": [
        {
          "data": {
            "text/html": [
              "<div>\n",
              "<style scoped>\n",
              "    .dataframe tbody tr th:only-of-type {\n",
              "        vertical-align: middle;\n",
              "    }\n",
              "\n",
              "    .dataframe tbody tr th {\n",
              "        vertical-align: top;\n",
              "    }\n",
              "\n",
              "    .dataframe thead th {\n",
              "        text-align: right;\n",
              "    }\n",
              "</style>\n",
              "<table border=\"1\" class=\"dataframe\">\n",
              "  <thead>\n",
              "    <tr style=\"text-align: right;\">\n",
              "      <th></th>\n",
              "      <th>idh_classificacao</th>\n",
              "      <th>Contagem de Municípios</th>\n",
              "      <th>Percentual</th>\n",
              "    </tr>\n",
              "  </thead>\n",
              "  <tbody>\n",
              "    <tr>\n",
              "      <th>0</th>\n",
              "      <td>Alto</td>\n",
              "      <td>7</td>\n",
              "      <td>0.13</td>\n",
              "    </tr>\n",
              "    <tr>\n",
              "      <th>1</th>\n",
              "      <td>Baixo</td>\n",
              "      <td>45</td>\n",
              "      <td>0.87</td>\n",
              "    </tr>\n",
              "  </tbody>\n",
              "</table>\n",
              "</div>"
            ],
            "text/plain": [
              "  idh_classificacao  Contagem de Municípios  Percentual\n",
              "0              Alto                       7        0.13\n",
              "1             Baixo                      45        0.87"
            ]
          },
          "execution_count": 96,
          "metadata": {},
          "output_type": "execute_result"
        }
      ],
      "source": [
        "# 5.1, vi) Percentual\n",
        "idh_rondonia['Percentual'] = (idh_rondonia['Contagem de Municípios'] / len(df)).round(2)\n",
        "idh_rondonia"
      ]
    },
    {
      "cell_type": "markdown",
      "metadata": {},
      "source": [
        "# Insights sobre IDH em Rondônia\n",
        "\n",
        "**Principais descobertas**\n",
        "- 87% dos municípios de Rondônia possuem IDH classificado como **BAIXO** (< 0.600)\n",
        "- Apenas 13% dos municípios atingem classificação **ALTO** em IDH"
      ]
    },
    {
      "cell_type": "markdown",
      "metadata": {
        "id": "zhtI6CxtlTuH"
      },
      "source": [
        "### 5.2 IFDM\n",
        "B - https://pt.wikipedia.org/wiki/Lista_de_munic%C3%ADpios_de_Rond%C3%B4nia_por_IFDM\n"
      ]
    },
    {
      "cell_type": "code",
      "execution_count": 97,
      "metadata": {
        "id": "1AVkd1M3lTuI"
      },
      "outputs": [],
      "source": [
        "# 5.2, i) Criando o categorizador de IFDM:\n",
        "def categorizar_ifdm(ifdm):\n",
        "    if ifdm >= 0.8:\n",
        "        return 'Alto'\n",
        "    elif ifdm < 0.6 and ifdm <=0.8:\n",
        "        return 'Moderado'\n",
        "    elif ifdm < 0.4 and ifdm <= 0.6:\n",
        "        return 'Regular'\n",
        "    else:\n",
        "        return 'Baixo'"
      ]
    },
    {
      "cell_type": "code",
      "execution_count": 99,
      "metadata": {},
      "outputs": [
        {
          "data": {
            "text/html": [
              "<div>\n",
              "<style scoped>\n",
              "    .dataframe tbody tr th:only-of-type {\n",
              "        vertical-align: middle;\n",
              "    }\n",
              "\n",
              "    .dataframe tbody tr th {\n",
              "        vertical-align: top;\n",
              "    }\n",
              "\n",
              "    .dataframe thead th {\n",
              "        text-align: right;\n",
              "    }\n",
              "</style>\n",
              "<table border=\"1\" class=\"dataframe\">\n",
              "  <thead>\n",
              "    <tr style=\"text-align: right;\">\n",
              "      <th></th>\n",
              "      <th>ifdm_classificacao</th>\n",
              "      <th>Contagem de Municípios</th>\n",
              "    </tr>\n",
              "  </thead>\n",
              "  <tbody>\n",
              "    <tr>\n",
              "      <th>0</th>\n",
              "      <td>Baixo</td>\n",
              "      <td>26</td>\n",
              "    </tr>\n",
              "    <tr>\n",
              "      <th>1</th>\n",
              "      <td>Moderado</td>\n",
              "      <td>26</td>\n",
              "    </tr>\n",
              "  </tbody>\n",
              "</table>\n",
              "</div>"
            ],
            "text/plain": [
              "  ifdm_classificacao  Contagem de Municípios\n",
              "0              Baixo                      26\n",
              "1           Moderado                      26"
            ]
          },
          "execution_count": 99,
          "metadata": {},
          "output_type": "execute_result"
        }
      ],
      "source": [
        "# 5.2, ii) Criando uma coluna de IFDM categorizada\n",
        "df['ifdm_classificacao'] = df['ifdm'].map(categorizar_ifdm)\n",
        "\n",
        "# 5.2, iii) IFDM Alto e Baixo, por municípios\n",
        "ifdm_rondonia = df.groupby('ifdm_classificacao').size().reset_index(name='Contagem de Municípios')\n",
        "ifdm_rondonia"
      ]
    },
    {
      "cell_type": "code",
      "execution_count": null,
      "metadata": {},
      "outputs": [
        {
          "data": {
            "image/png": "[encoded data removed]",
            "text/plain": [
              "<Figure size 1000x600 with 1 Axes>"
            ]
          },
          "metadata": {},
          "output_type": "display_data"
        }
      ],
      "source": [
        "# 5.1, iv) Analisando o ifdm graficamente\n",
        "ifdm_rondonia.plot(\n",
        "    kind='bar',\n",
        "    title='Distribuição de IFDM na Rondônia',\n",
        "    figsize=(10, 6),\n",
        "    xlabel='Classificação de IFDM',\n",
        "    rot=0, # Deixar na horizontal!\n",
        "    ylabel='Contagem de Municípios'\n",
        ")\n",
        "plt.xticks([0, 1], ['Baixo', 'Moderado'])\n",
        "plt.show()"
      ]
    },
    {
      "cell_type": "markdown",
      "metadata": {},
      "source": [
        "# Insights sobre IFDM em Rondônia\n",
        "\n",
        "**Principais descobertas**\n",
        "- Os municípios de Rondônia só possuem duas classificações de IFDM: Baixo e Moderado, divididas igualmente entre os municípios."
      ]
    },
    {
      "cell_type": "markdown",
      "metadata": {
        "id": "BwdS46EWlTuI"
      },
      "source": [
        "### 5.3 PIB\n",
        "C - https://pt.wikipedia.org/wiki/Lista_de_munic%C3%ADpios_de_Rond%C3%B4nia_por_PIB\n"
      ]
    },
    {
      "cell_type": "code",
      "execution_count": 119,
      "metadata": {},
      "outputs": [],
      "source": [
        "# 5.3, i) Categorizando o PIB\n",
        "def categorizador_PIB (pib):\n",
        "    if pib >= 1000000:\n",
        "        return 'Acima de 1 bilhão'\n",
        "    elif 1000000 > pib >= 500000:\n",
        "        return 'Acima de 500 milhões'\n",
        "    elif 500000 > pib >= 300000:\n",
        "        return 'Acima de 300 milhões'\n",
        "    elif 300000 > pib >= 200000:\n",
        "        return 'Acima de 200 milhões'\n",
        "    elif 200000 > pib >= 100000:\n",
        "        return 'Acima de 100 milhões'\n",
        "    else: \n",
        "        return 'Até 100 milhões'"
      ]
    },
    {
      "cell_type": "code",
      "execution_count": 134,
      "metadata": {},
      "outputs": [
        {
          "data": {
            "text/html": [
              "<div>\n",
              "<style scoped>\n",
              "    .dataframe tbody tr th:only-of-type {\n",
              "        vertical-align: middle;\n",
              "    }\n",
              "\n",
              "    .dataframe tbody tr th {\n",
              "        vertical-align: top;\n",
              "    }\n",
              "\n",
              "    .dataframe thead th {\n",
              "        text-align: right;\n",
              "    }\n",
              "</style>\n",
              "<table border=\"1\" class=\"dataframe\">\n",
              "  <thead>\n",
              "    <tr style=\"text-align: right;\">\n",
              "      <th></th>\n",
              "      <th>PIB_categorizado</th>\n",
              "      <th>Contagem de Municípios</th>\n",
              "    </tr>\n",
              "  </thead>\n",
              "  <tbody>\n",
              "    <tr>\n",
              "      <th>0</th>\n",
              "      <td>Acima de 1 bilhão</td>\n",
              "      <td>8</td>\n",
              "    </tr>\n",
              "    <tr>\n",
              "      <th>1</th>\n",
              "      <td>Acima de 100 milhões</td>\n",
              "      <td>16</td>\n",
              "    </tr>\n",
              "    <tr>\n",
              "      <th>2</th>\n",
              "      <td>Acima de 200 milhões</td>\n",
              "      <td>4</td>\n",
              "    </tr>\n",
              "    <tr>\n",
              "      <th>3</th>\n",
              "      <td>Acima de 300 milhões</td>\n",
              "      <td>7</td>\n",
              "    </tr>\n",
              "    <tr>\n",
              "      <th>4</th>\n",
              "      <td>Acima de 500 milhões</td>\n",
              "      <td>9</td>\n",
              "    </tr>\n",
              "    <tr>\n",
              "      <th>5</th>\n",
              "      <td>Até 100 milhões</td>\n",
              "      <td>8</td>\n",
              "    </tr>\n",
              "  </tbody>\n",
              "</table>\n",
              "</div>"
            ],
            "text/plain": [
              "       PIB_categorizado  Contagem de Municípios\n",
              "0     Acima de 1 bilhão                       8\n",
              "1  Acima de 100 milhões                      16\n",
              "2  Acima de 200 milhões                       4\n",
              "3  Acima de 300 milhões                       7\n",
              "4  Acima de 500 milhões                       9\n",
              "5       Até 100 milhões                       8"
            ]
          },
          "execution_count": 134,
          "metadata": {},
          "output_type": "execute_result"
        }
      ],
      "source": [
        "# 5.3, ii) Criando uma coluna para o PIB\n",
        "df['PIB_categorizado'] = df['pib'].map(categorizador_PIB)\n",
        "\n",
        "# 5.3, iii) Criando o agrupamento para as faixas do PIB\n",
        "pib = df.groupby(['PIB_categorizado']).size().reset_index(name='Contagem de Municípios')\n",
        "pib"
      ]
    },
    {
      "cell_type": "code",
      "execution_count": 135,
      "metadata": {},
      "outputs": [
        {
          "data": {
            "image/png": "[encoded data removed]",
            "text/plain": [
              "<Figure size 1000x600 with 1 Axes>"
            ]
          },
          "metadata": {},
          "output_type": "display_data"
        }
      ],
      "source": [
        "# 5.3, iv) Gráfico\n",
        "pib.plot(\n",
        "    kind='bar',\n",
        "    title='Distribuição de PIB por Municípios',\n",
        "    figsize=(10, 6),\n",
        "    xlabel='Classificação de PIB',\n",
        "    rot=45,\n",
        "    ylabel='Contagem de Municípios'\n",
        ")\n",
        "\n",
        "plt.xticks([0, 1, 2, 3, 4, 5], [\n",
        "    'Acima de 1 bilhão',\n",
        "    'Acima de 100 milhões',\n",
        "    'Acima de 200 milhões',\n",
        "    'Acima de 300 milhões',\n",
        "    'Acima de 500 milhões',\n",
        "    'Até 100 milhões'\n",
        "    ])\n",
        "plt.show()"
      ]
    },
    {
      "cell_type": "markdown",
      "metadata": {},
      "source": [
        "# Insights sobre PIB em Rondônia\n",
        "\n",
        "**Principais descobertas**\n",
        "- Os municípios de Rondônia normalmente possuem PIB acima de 100 milhões, enquanto o resto dos municípios são bem distribuídos."
      ]
    },
    {
      "cell_type": "markdown",
      "metadata": {
        "id": "f8P7BYYglTuJ"
      },
      "source": [
        "# Respostas Encontradas e Conclusão\n",
        "Com base nas análises da atividade, conseguimos com clareza identificar e observar problemas que os municípios de Rondônia parecem possuir relacionados com métricas de 'qualidade de vida' e de renda básica como IDH e PIB. Os municípios de rondônia geralmente possuem IDH baixo, a maioria dos dados de IFDM são baixos e moderados, e o PIB bem distribuido.\n",
        "\n",
        "Para isso, nós utilizamos de ferramentas como `df.groupby` para agrupar dados, e também utilizamos do conceito de `mapping` para mapear dados, criando 'faixas' ou categorias para os dados e filtrando com base nessas categorias.\n",
        "Esse método de mapeamento para os dados será muito relevante no futuro, especialmente em `feature engineering`, quando devemos escolher quais features iremos usar para classificar nosso modelo, e podemos precisar criar novas features transformando dados numéricos em categóricos (essencialmente 'criando faixas' para os dados e poder analisá-los como se fossem variávels categóricas)"
      ]
    },
    {
      "cell_type": "markdown",
      "metadata": {},
      "source": [
        "**Observação:** Os dados do PIB na Wikipedia não estão em \"bilhão\", então pra bater com os dados da Wikipedia iremos mudar diretamente na função que categoriza o PIB para reduzir 3 casas decimais. Essa provavelmente não é a melhor forma de solucionar isso."
      ]
    }
  ],
  "metadata": {
    "colab": {
      "provenance": []
    },
    "kernelspec": {
      "display_name": ".venv",
      "language": "python",
      "name": "python3"
    },
    "language_info": {
      "codemirror_mode": {
        "name": "ipython",
        "version": 3
      },
      "file_extension": ".py",
      "mimetype": "text/x-python",
      "name": "python",
      "nbconvert_exporter": "python",
      "pygments_lexer": "ipython3",
      "version": "3.13.0"
    },
    "varInspector": {
      "cols": {
        "lenName": 16,
        "lenType": 16,
        "lenVar": 40
      },
      "kernels_config": {
        "python": {
          "delete_cmd_postfix": "",
          "delete_cmd_prefix": "del ",
          "library": "var_list.py",
          "varRefreshCmd": "print(var_dic_list())"
        },
        "r": {
          "delete_cmd_postfix": ") ",
          "delete_cmd_prefix": "rm(",
          "library": "var_list.r",
          "varRefreshCmd": "cat(var_dic_list()) "
        }
      },
      "types_to_exclude": [
        "module",
        "function",
        "builtin_function_or_method",
        "instance",
        "_Feature"
      ],
      "window_display": false
    }
  },
  "nbformat": 4,
  "nbformat_minor": 0
}
