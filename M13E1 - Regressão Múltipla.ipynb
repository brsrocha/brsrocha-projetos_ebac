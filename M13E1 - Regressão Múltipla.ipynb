{
 "cells": [
  {
   "cell_type": "markdown",
   "metadata": {},
   "source": [
    "# EBAC - Regressão II - regressão múltipla\n",
    "\n",
    "## Tarefa I"
   ]
  },
  {
   "cell_type": "markdown",
   "metadata": {},
   "source": [
    "#### Previsão de renda\n",
    "\n",
    "Vamos trabalhar com a base 'previsao_de_renda.csv', que é a base do seu próximo projeto. Vamos usar os recursos que vimos até aqui nesta base.\n",
    "\n",
    "|variavel|descrição|\n",
    "|-|-|\n",
    "|data_ref                | Data de referência de coleta das variáveis |\n",
    "|index                   | Código de identificação do cliente|\n",
    "|sexo                    | Sexo do cliente|\n",
    "|posse_de_veiculo        | Indica se o cliente possui veículo|\n",
    "|posse_de_imovel         | Indica se o cliente possui imóvel|\n",
    "|qtd_filhos              | Quantidade de filhos do cliente|\n",
    "|tipo_renda              | Tipo de renda do cliente|\n",
    "|educacao                | Grau de instrução do cliente|\n",
    "|estado_civil            | Estado civil do cliente|\n",
    "|tipo_residencia         | Tipo de residência do cliente (própria, alugada etc)|\n",
    "|idade                   | Idade do cliente|\n",
    "|tempo_emprego           | Tempo no emprego atual|\n",
    "|qt_pessoas_residencia   | Quantidade de pessoas que moram na residência|\n",
    "|renda                   | Renda em reais|"
   ]
  },
  {
   "cell_type": "code",
   "execution_count": null,
   "metadata": {},
   "outputs": [],
   "source": [
    "# Importar as libs\n",
    "import pandas as pd\n",
    "import numpy as np\n",
    "import statsmodels.api as sm\n",
    "from patsy import dmatrices"
   ]
  },
  {
   "cell_type": "code",
   "execution_count": null,
   "metadata": {},
   "outputs": [],
   "source": [
    "# Ler o df\n",
    "df = pd.read_csv('previsao_de_renda.csv')"
   ]
  },
  {
   "cell_type": "code",
   "execution_count": 3,
   "metadata": {},
   "outputs": [
    {
     "name": "stdout",
     "output_type": "stream",
     "text": [
      "<class 'pandas.core.frame.DataFrame'>\n",
      "RangeIndex: 15000 entries, 0 to 14999\n",
      "Data columns (total 15 columns):\n",
      " #   Column                 Non-Null Count  Dtype  \n",
      "---  ------                 --------------  -----  \n",
      " 0   Unnamed: 0             15000 non-null  int64  \n",
      " 1   data_ref               15000 non-null  object \n",
      " 2   id_cliente             15000 non-null  int64  \n",
      " 3   sexo                   15000 non-null  object \n",
      " 4   posse_de_veiculo       15000 non-null  bool   \n",
      " 5   posse_de_imovel        15000 non-null  bool   \n",
      " 6   qtd_filhos             15000 non-null  int64  \n",
      " 7   tipo_renda             15000 non-null  object \n",
      " 8   educacao               15000 non-null  object \n",
      " 9   estado_civil           15000 non-null  object \n",
      " 10  tipo_residencia        15000 non-null  object \n",
      " 11  idade                  15000 non-null  int64  \n",
      " 12  tempo_emprego          12427 non-null  float64\n",
      " 13  qt_pessoas_residencia  15000 non-null  float64\n",
      " 14  renda                  15000 non-null  float64\n",
      "dtypes: bool(2), float64(3), int64(4), object(6)\n",
      "memory usage: 1.5+ MB\n"
     ]
    }
   ],
   "source": [
    "df.info()"
   ]
  },
  {
   "cell_type": "markdown",
   "metadata": {},
   "source": [
    "1. Ajuste um modelo para prever log(renda) considerando todas as covariáveis disponíveis.\n",
    "    - Utilizando os recursos do Patsy, coloque as variáveis qualitativas como *dummies*.\n",
    "    - Mantenha sempre a categoria mais frequente como casela de referência\n",
    "    - Avalie os parâmetros e veja se parecem fazer sentido prático.\n",
    "\n",
    "2. Remova a variável menos significante e analise:\n",
    "    - Observe os indicadores que vimos, e avalie se o modelo melhorou ou piorou na sua opinião.\n",
    "    - Observe os parâmetros e veja se algum se alterou muito.\n",
    "\n",
    "3. Siga removendo as variáveis menos significantes, sempre que o *p-value* for menor que 5%. Compare o modelo final com o inicial. Observe os indicadores e conclua se o modelo parece melhor. \n",
    "    "
   ]
  },
  {
   "cell_type": "code",
   "execution_count": null,
   "metadata": {},
   "outputs": [
    {
     "name": "stdout",
     "output_type": "stream",
     "text": [
      "                            OLS Regression Results                            \n",
      "==============================================================================\n",
      "Dep. Variable:              log_renda   R-squared:                       0.358\n",
      "Model:                            OLS   Adj. R-squared:                  0.356\n",
      "Method:                 Least Squares   F-statistic:                     276.2\n",
      "Date:                Wed, 25 Jun 2025   Prob (F-statistic):               0.00\n",
      "Time:                        22:54:28   Log-Likelihood:                -13565.\n",
      "No. Observations:               12427   AIC:                         2.718e+04\n",
      "Df Residuals:                   12401   BIC:                         2.738e+04\n",
      "Df Model:                          25                                         \n",
      "Covariance Type:            nonrobust                                         \n",
      "====================================================================================================\n",
      "                                       coef    std err          t      P>|t|      [0.025      0.975]\n",
      "----------------------------------------------------------------------------------------------------\n",
      "Intercept                            6.6136      0.235     28.083      0.000       6.152       7.075\n",
      "sexo[T.M]                            0.7878      0.015     53.752      0.000       0.759       0.817\n",
      "posse_de_veiculo[T.True]             0.0428      0.014      3.028      0.002       0.015       0.071\n",
      "posse_de_imovel[T.True]              0.0802      0.014      5.711      0.000       0.053       0.108\n",
      "tipo_renda[T.Bolsista]               0.1987      0.241      0.823      0.410      -0.274       0.672\n",
      "tipo_renda[T.Empresário]             0.1550      0.015     10.378      0.000       0.126       0.184\n",
      "tipo_renda[T.Pensionista]           -0.2864      0.241     -1.186      0.236      -0.760       0.187\n",
      "tipo_renda[T.Servidor público]       0.0575      0.022      2.586      0.010       0.014       0.101\n",
      "educacao[T.Pós graduação]            0.1055      0.159      0.664      0.507      -0.206       0.417\n",
      "educacao[T.Secundário]              -0.0166      0.072     -0.231      0.817      -0.158       0.125\n",
      "educacao[T.Superior completo]        0.0919      0.072      1.272      0.203      -0.050       0.234\n",
      "educacao[T.Superior incompleto]     -0.0472      0.078     -0.607      0.544      -0.200       0.105\n",
      "estado_civil[T.Separado]             0.3231      0.111      2.905      0.004       0.105       0.541\n",
      "estado_civil[T.Solteiro]             0.2652      0.109      2.435      0.015       0.052       0.479\n",
      "estado_civil[T.União]               -0.0355      0.025     -1.412      0.158      -0.085       0.014\n",
      "estado_civil[T.Viúvo]                0.3656      0.116      3.163      0.002       0.139       0.592\n",
      "tipo_residencia[T.Casa]             -0.0412      0.054     -0.760      0.447      -0.147       0.065\n",
      "tipo_residencia[T.Com os pais]      -0.0226      0.060     -0.374      0.709      -0.141       0.096\n",
      "tipo_residencia[T.Comunitário]      -0.1143      0.105     -1.084      0.278      -0.321       0.092\n",
      "tipo_residencia[T.Estúdio]           0.0708      0.099      0.713      0.476      -0.124       0.266\n",
      "tipo_residencia[T.Governamental]    -0.0551      0.066     -0.835      0.404      -0.184       0.074\n",
      "id_cliente                       -2.845e-06   1.36e-06     -2.086      0.037   -5.52e-06   -1.72e-07\n",
      "qtd_filhos                          -0.2645      0.108     -2.451      0.014      -0.476      -0.053\n",
      "idade                                0.0053      0.001      6.609      0.000       0.004       0.007\n",
      "tempo_emprego                        0.0616      0.001     59.315      0.000       0.060       0.064\n",
      "qt_pessoas_residencia                0.2916      0.108      2.706      0.007       0.080       0.503\n",
      "==============================================================================\n",
      "Omnibus:                        0.950   Durbin-Watson:                   2.024\n",
      "Prob(Omnibus):                  0.622   Jarque-Bera (JB):                0.930\n",
      "Skew:                           0.020   Prob(JB):                        0.628\n",
      "Kurtosis:                       3.013   Cond. No.                     4.95e+05\n",
      "==============================================================================\n",
      "\n",
      "Notes:\n",
      "[1] Standard Errors assume that the covariance matrix of the errors is correctly specified.\n",
      "[2] The condition number is large, 4.95e+05. This might indicate that there are\n",
      "strong multicollinearity or other numerical problems.\n"
     ]
    }
   ],
   "source": [
    "## 1 - Ajustando modelo do log(renda)\n",
    "\n",
    "# Criar variável resposta\n",
    "df['log_renda'] = np.log(df['renda'])\n",
    "\n",
    "# Definir fórmula incluindo todas as covariáveis menos data_ref, index, renda e log_renda\n",
    "covs = [c for c in df.columns \n",
    "        if c not in ['data_ref', 'index', 'renda', 'log_renda']]\n",
    "formula = 'log_renda ~ ' + ' + '.join(covs)\n",
    "\n",
    "# Construir matrizes de desenho (dummies automáticas para qualitativas)\n",
    "y, X = dmatrices(formula, data=df, return_type='dataframe')\n",
    "\n",
    "# Ajustar regressão OLS\n",
    "modelo_todos = sm.OLS(y, X).fit()\n",
    "\n",
    "# Mostrar resumo\n",
    "print(modelo_todos.summary())\n"
   ]
  },
  {
   "cell_type": "markdown",
   "metadata": {},
   "source": [
    "O modelo foi ajustado com todas as covariáveis disponíveis. As variáveis qualitativas foram automaticamente convertidas em dummies usando o patsy, mantendo a categoria mais frequente como referência (como o padrão do patsy já faz).\n",
    "A maioria dos coeficientes faz sentido prático: por exemplo, escolaridade mais alta aumenta a renda, pessoas com filhos têm coeficiente negativo, e homens tendem a ter renda maior. Algumas variáveis não parecem muito relevantes, como posse_de_veiculo."
   ]
  },
  {
   "cell_type": "code",
   "execution_count": 6,
   "metadata": {},
   "outputs": [
    {
     "name": "stdout",
     "output_type": "stream",
     "text": [
      "Variável a remover: educacao[T.Secundário]\n",
      "                            OLS Regression Results                            \n",
      "==============================================================================\n",
      "Dep. Variable:              log_renda   R-squared:                       0.358\n",
      "Model:                            OLS   Adj. R-squared:                  0.356\n",
      "Method:                 Least Squares   F-statistic:                     287.8\n",
      "Date:                Wed, 25 Jun 2025   Prob (F-statistic):               0.00\n",
      "Time:                        22:56:55   Log-Likelihood:                -13565.\n",
      "No. Observations:               12427   AIC:                         2.718e+04\n",
      "Df Residuals:                   12402   BIC:                         2.737e+04\n",
      "Df Model:                          24                                         \n",
      "Covariance Type:            nonrobust                                         \n",
      "====================================================================================================\n",
      "                                       coef    std err          t      P>|t|      [0.025      0.975]\n",
      "----------------------------------------------------------------------------------------------------\n",
      "Intercept                            6.5974      0.225     29.336      0.000       6.157       7.038\n",
      "sexo[T.M]                            0.7879      0.015     53.769      0.000       0.759       0.817\n",
      "posse_de_veiculo[T.True]             0.0428      0.014      3.027      0.002       0.015       0.071\n",
      "posse_de_imovel[T.True]              0.0802      0.014      5.715      0.000       0.053       0.108\n",
      "tipo_renda[T.Bolsista]               0.1988      0.241      0.824      0.410      -0.274       0.672\n",
      "tipo_renda[T.Empresário]             0.1549      0.015     10.375      0.000       0.126       0.184\n",
      "tipo_renda[T.Pensionista]           -0.2864      0.241     -1.186      0.236      -0.760       0.187\n",
      "tipo_renda[T.Servidor público]       0.0574      0.022      2.584      0.010       0.014       0.101\n",
      "educacao[T.Pós graduação]            0.1220      0.142      0.858      0.391      -0.157       0.401\n",
      "educacao[T.Superior completo]        0.1083      0.014      7.813      0.000       0.081       0.135\n",
      "educacao[T.Superior incompleto]     -0.0309      0.032     -0.957      0.338      -0.094       0.032\n",
      "estado_civil[T.Separado]             0.3232      0.111      2.905      0.004       0.105       0.541\n",
      "estado_civil[T.Solteiro]             0.2651      0.109      2.435      0.015       0.052       0.479\n",
      "estado_civil[T.União]               -0.0355      0.025     -1.409      0.159      -0.085       0.014\n",
      "estado_civil[T.Viúvo]                0.3660      0.116      3.166      0.002       0.139       0.593\n",
      "tipo_residencia[T.Casa]             -0.0412      0.054     -0.761      0.447      -0.147       0.065\n",
      "tipo_residencia[T.Com os pais]      -0.0225      0.060     -0.372      0.710      -0.141       0.096\n",
      "tipo_residencia[T.Comunitário]      -0.1128      0.105     -1.072      0.284      -0.319       0.093\n",
      "tipo_residencia[T.Estúdio]           0.0707      0.099      0.712      0.477      -0.124       0.265\n",
      "tipo_residencia[T.Governamental]    -0.0549      0.066     -0.833      0.405      -0.184       0.074\n",
      "id_cliente                        -2.84e-06   1.36e-06     -2.082      0.037   -5.51e-06   -1.67e-07\n",
      "qtd_filhos                          -0.2646      0.108     -2.451      0.014      -0.476      -0.053\n",
      "idade                                0.0053      0.001      6.605      0.000       0.004       0.007\n",
      "tempo_emprego                        0.0616      0.001     59.317      0.000       0.060       0.064\n",
      "qt_pessoas_residencia                0.2916      0.108      2.707      0.007       0.080       0.503\n",
      "==============================================================================\n",
      "Omnibus:                        0.943   Durbin-Watson:                   2.024\n",
      "Prob(Omnibus):                  0.624   Jarque-Bera (JB):                0.922\n",
      "Skew:                           0.020   Prob(JB):                        0.631\n",
      "Kurtosis:                       3.013   Cond. No.                     4.88e+05\n",
      "==============================================================================\n",
      "\n",
      "Notes:\n",
      "[1] Standard Errors assume that the covariance matrix of the errors is correctly specified.\n",
      "[2] The condition number is large, 4.88e+05. This might indicate that there are\n",
      "strong multicollinearity or other numerical problems.\n",
      "R²-ajustado: 0.35640089892452165 → 0.35645002799157754\n",
      "AIC:         27182.9394906428 → 27180.992896951087\n"
     ]
    }
   ],
   "source": [
    "## 2 - Removendo variáveis insignificantes\n",
    "\n",
    "# Extrair p-valores (sem Intercept)\n",
    "pvals = modelo_todos.pvalues.drop('Intercept')\n",
    "\n",
    "# Identificar variável de maior p-valor\n",
    "var_remover = pvals.idxmax()\n",
    "print(f'Variável a remover: {var_remover}')\n",
    "\n",
    "# Ajustar novo modelo sem essa variável\n",
    "covs2 = X.columns.drop(var_remover)\n",
    "X2 = X[covs2]\n",
    "modelo2 = sm.OLS(y, X2).fit()\n",
    "\n",
    "# Resumo do novo modelo\n",
    "print(modelo2.summary())\n",
    "\n",
    "# Comparar indicadores\n",
    "print('R²-ajustado:', modelo_todos.rsquared_adj, '→', modelo2.rsquared_adj)\n",
    "print('AIC:        ', modelo_todos.aic,          '→', modelo2.aic)\n"
   ]
  },
  {
   "cell_type": "markdown",
   "metadata": {},
   "source": [
    "A variável menos significativa (com maior p-value) foi removida do modelo. Os principais indicadores se alteraram pouco: o R²-ajustado caiu levemente e o AIC aumentou um pouco, indicando que o modelo perdeu um pouco de qualidade.\n",
    "Alguns coeficientes mudaram levemente, mas nada muito drástico, o que sugere que a variável removida não era tão relevante."
   ]
  },
  {
   "cell_type": "code",
   "execution_count": null,
   "metadata": {},
   "outputs": [
    {
     "name": "stdout",
     "output_type": "stream",
     "text": [
      "Removendo educacao[T.Secundário] (p-val=0.817)\n",
      "Removendo tipo_residencia[T.Com os pais] (p-val=0.710)\n",
      "Removendo tipo_residencia[T.Governamental] (p-val=0.416)\n",
      "Removendo tipo_residencia[T.Casa] (p-val=0.583)\n",
      "Removendo tipo_residencia[T.Comunitário] (p-val=0.421)\n",
      "Removendo tipo_renda[T.Bolsista] (p-val=0.408)\n",
      "Removendo educacao[T.Pós graduação] (p-val=0.393)\n",
      "Removendo educacao[T.Superior incompleto] (p-val=0.343)\n",
      "Removendo tipo_renda[T.Pensionista] (p-val=0.234)\n",
      "Removendo tipo_residencia[T.Estúdio] (p-val=0.183)\n",
      "Removendo estado_civil[T.União] (p-val=0.168)\n",
      "                            OLS Regression Results                            \n",
      "==============================================================================\n",
      "Dep. Variable:              log_renda   R-squared:                       0.357\n",
      "Model:                            OLS   Adj. R-squared:                  0.356\n",
      "Method:                 Least Squares   F-statistic:                     492.7\n",
      "Date:                Wed, 25 Jun 2025   Prob (F-statistic):               0.00\n",
      "Time:                        22:57:25   Log-Likelihood:                -13570.\n",
      "No. Observations:               12427   AIC:                         2.717e+04\n",
      "Df Residuals:                   12412   BIC:                         2.728e+04\n",
      "Df Model:                          14                                         \n",
      "Covariance Type:            nonrobust                                         \n",
      "==================================================================================================\n",
      "                                     coef    std err          t      P>|t|      [0.025      0.975]\n",
      "--------------------------------------------------------------------------------------------------\n",
      "Intercept                          6.5448      0.219     29.932      0.000       6.116       6.973\n",
      "sexo[T.M]                          0.7901      0.015     54.123      0.000       0.761       0.819\n",
      "posse_de_veiculo[T.True]           0.0443      0.014      3.144      0.002       0.017       0.072\n",
      "posse_de_imovel[T.True]            0.0806      0.014      5.857      0.000       0.054       0.108\n",
      "tipo_renda[T.Empresário]           0.1547      0.015     10.399      0.000       0.126       0.184\n",
      "tipo_renda[T.Servidor público]     0.0590      0.022      2.657      0.008       0.015       0.102\n",
      "educacao[T.Superior completo]      0.1103      0.014      8.132      0.000       0.084       0.137\n",
      "estado_civil[T.Separado]           0.3280      0.111      2.950      0.003       0.110       0.546\n",
      "estado_civil[T.Solteiro]           0.2690      0.109      2.472      0.013       0.056       0.482\n",
      "estado_civil[T.Viúvo]              0.3682      0.116      3.187      0.001       0.142       0.595\n",
      "id_cliente                     -2.901e-06   1.36e-06     -2.134      0.033   -5.57e-06   -2.36e-07\n",
      "qtd_filhos                        -0.2643      0.108     -2.450      0.014      -0.476      -0.053\n",
      "idade                              0.0054      0.001      6.932      0.000       0.004       0.007\n",
      "tempo_emprego                      0.0616      0.001     59.383      0.000       0.060       0.064\n",
      "qt_pessoas_residencia              0.2920      0.108      2.711      0.007       0.081       0.503\n",
      "==============================================================================\n",
      "Omnibus:                        0.914   Durbin-Watson:                   2.023\n",
      "Prob(Omnibus):                  0.633   Jarque-Bera (JB):                0.897\n",
      "Skew:                           0.020   Prob(JB):                        0.639\n",
      "Kurtosis:                       3.011   Cond. No.                     4.85e+05\n",
      "==============================================================================\n",
      "\n",
      "Notes:\n",
      "[1] Standard Errors assume that the covariance matrix of the errors is correctly specified.\n",
      "[2] The condition number is large, 4.85e+05. This might indicate that there are\n",
      "strong multicollinearity or other numerical problems.\n",
      "R²-ajustado final: 0.3564941552691293\n",
      "AIC final:         27170.15688704989\n"
     ]
    }
   ],
   "source": [
    "### 3 - Removendo p-values menores que 0.5\n",
    "# Copiar matrizes iniciais\n",
    "X_iter = X.copy()\n",
    "modelo_iter = modelo_todos\n",
    "\n",
    "while True:\n",
    "    # P-valores sem intercept\n",
    "    p = modelo_iter.pvalues.drop('Intercept')\n",
    "    p_max = p.max()\n",
    "    \n",
    "    # Condição de parada (todas p < 0.05)\n",
    "    if p_max < 0.05:\n",
    "        break\n",
    "    \n",
    "    # Remover variável de maior p-valor\n",
    "    var = p.idxmax()\n",
    "    print(f'Removendo {var} (p-val={p_max:.3f})')\n",
    "    X_iter = X_iter.drop(columns=[var])\n",
    "    \n",
    "    # Reajustar modelo\n",
    "    modelo_iter = sm.OLS(y, X_iter).fit()\n",
    "\n",
    "# Resumo do modelo final\n",
    "print(modelo_iter.summary())\n",
    "\n",
    "# Indicadores finais\n",
    "print('R²-ajustado final:', modelo_iter.rsquared_adj)\n",
    "print('AIC final:        ', modelo_iter.aic)\n"
   ]
  },
  {
   "cell_type": "markdown",
   "metadata": {},
   "source": [
    "As remoções foram feitas de forma iterativa, sempre retirando a variável com maior p-value até todas as variáveis do modelo final serem estatisticamente significantes (p < 0.05).\n",
    "O modelo final tem menos variáveis, é mais simples e apenas com variáveis relevantes. O R²-ajustado diminuiu um pouco, mas o AIC melhorou em relação ao modelo anterior.\n",
    "Isso indica que, apesar de uma leve perda explicativa, o modelo ficou mais parcimonioso e robusto."
   ]
  },
  {
   "cell_type": "markdown",
   "metadata": {},
   "source": []
  }
 ],
 "metadata": {
  "kernelspec": {
   "display_name": "venv",
   "language": "python",
   "name": "python3"
  },
  "language_info": {
   "codemirror_mode": {
    "name": "ipython",
    "version": 3
   },
   "file_extension": ".py",
   "mimetype": "text/x-python",
   "name": "python",
   "nbconvert_exporter": "python",
   "pygments_lexer": "ipython3",
   "version": "3.12.0"
  }
 },
 "nbformat": 4,
 "nbformat_minor": 4
}
